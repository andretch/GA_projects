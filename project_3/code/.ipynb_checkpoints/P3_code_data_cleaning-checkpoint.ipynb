{
 "cells": [
  {
   "cell_type": "markdown",
   "metadata": {},
   "source": [
    "# Project 3: Subreddit Classification"
   ]
  },
  {
   "cell_type": "markdown",
   "metadata": {},
   "source": [
    "## Problem Statement"
   ]
  },
  {
   "cell_type": "markdown",
   "metadata": {},
   "source": [
    "Our customer, a promiment auto magazine publisher has enaged us to help with accurately classifying subreddits r/cars and r/motorcycles in an effort to better understand the amout of subreddit participation between cars and motorcycles. They will use this data to position their editorials to cater to the masses.\n",
    "\n",
    "In this project, we will use the [Pushshift API](https://github.com/pushshift/api) to perform webscraping of the two abovementioned subreddits from [reddit.com](reddit.com)"
   ]
  },
  {
   "cell_type": "markdown",
   "metadata": {},
   "source": [
    "## Importing libraries & data"
   ]
  },
  {
   "cell_type": "code",
   "execution_count": 100,
   "metadata": {},
   "outputs": [],
   "source": [
    "# Maths\n",
    "import numpy as np\n",
    "import pandas as pd\n",
    "\n",
    "# Visual\n",
    "import seaborn as sns\n",
    "import matplotlib.pyplot as plt\n",
    "\n",
    "# Modelling\n",
    "from sklearn.linear_model import LinearRegression\n",
    "from sklearn.linear_model import LogisticRegressionCV\n",
    "\n",
    "from sklearn.model_selection import train_test_split,cross_val_score,GridSearchCV\n",
    "from sklearn.metrics import confusion_matrix, plot_confusion_matrix, classification_report, precision_score, recall_score\n",
    "from sklearn.pipeline import make_pipeline,Pipeline\n",
    "from sklearn.preprocessing import StandardScaler\n",
    "from sklearn.ensemble import RandomForestClassifier\n",
    "\n",
    "# NLP\n",
    "from sklearn.feature_extraction.text import CountVectorizer,TfidfVectorizer\n",
    "from sklearn.naive_bayes import MultinomialNB\n",
    "from nltk.stem import PorterStemmer,WordNetLemmatizer\n",
    "from nltk.tokenize import sent_tokenize, word_tokenize\n",
    "from nltk.corpus import stopwords\n",
    "from nltk.sentiment.vader import SentimentIntensityAnalyzer\n",
    "\n",
    "# Others\n",
    "import time\n",
    "import datetime as dt\n",
    "import re\n",
    "import os\n",
    "from collections import Counter\n",
    "from wordcloud import WordCloud\n",
    "from pickle import dump, load\n",
    "import gzip"
   ]
  },
  {
   "cell_type": "code",
   "execution_count": 3,
   "metadata": {},
   "outputs": [],
   "source": [
    "cars = pd.read_csv('../data/cars.csv')\n",
    "bikes = pd.read_csv('../data/bikes.csv')"
   ]
  },
  {
   "cell_type": "markdown",
   "metadata": {},
   "source": [
    "## Backing up data"
   ]
  },
  {
   "cell_type": "code",
   "execution_count": 4,
   "metadata": {},
   "outputs": [],
   "source": [
    "def create_copy(df): #creating a backup DataFrame for reverting to if something goes wrong\n",
    "    df = df.copy()\n",
    "    return df"
   ]
  },
  {
   "cell_type": "code",
   "execution_count": 5,
   "metadata": {},
   "outputs": [],
   "source": [
    "cars_backup = create_copy(cars)\n",
    "bikes_backup = create_copy(bikes)"
   ]
  },
  {
   "cell_type": "markdown",
   "metadata": {},
   "source": [
    "## Initial EDA"
   ]
  },
  {
   "cell_type": "code",
   "execution_count": 6,
   "metadata": {},
   "outputs": [
    {
     "data": {
      "text/plain": [
       "(9835, 6)"
      ]
     },
     "execution_count": 6,
     "metadata": {},
     "output_type": "execute_result"
    }
   ],
   "source": [
    "cars.shape"
   ]
  },
  {
   "cell_type": "code",
   "execution_count": 7,
   "metadata": {},
   "outputs": [
    {
     "name": "stdout",
     "output_type": "stream",
     "text": [
      "<class 'pandas.core.frame.DataFrame'>\n",
      "RangeIndex: 9835 entries, 0 to 9834\n",
      "Data columns (total 6 columns):\n",
      " #   Column        Non-Null Count  Dtype  \n",
      "---  ------        --------------  -----  \n",
      " 0   selftext      7109 non-null   object \n",
      " 1   title         9835 non-null   object \n",
      " 2   upvote_ratio  9835 non-null   float64\n",
      " 3   subreddit     9835 non-null   object \n",
      " 4   author        9835 non-null   object \n",
      " 5   is_self       9835 non-null   bool   \n",
      "dtypes: bool(1), float64(1), object(4)\n",
      "memory usage: 393.9+ KB\n"
     ]
    }
   ],
   "source": [
    "cars.info()"
   ]
  },
  {
   "cell_type": "code",
   "execution_count": 8,
   "metadata": {},
   "outputs": [
    {
     "data": {
      "text/plain": [
       "selftext        2726\n",
       "title              0\n",
       "upvote_ratio       0\n",
       "subreddit          0\n",
       "author             0\n",
       "is_self            0\n",
       "dtype: int64"
      ]
     },
     "execution_count": 8,
     "metadata": {},
     "output_type": "execute_result"
    }
   ],
   "source": [
    "cars.isnull().sum()"
   ]
  },
  {
   "cell_type": "code",
   "execution_count": 9,
   "metadata": {},
   "outputs": [
    {
     "data": {
      "text/html": [
       "<div>\n",
       "<style scoped>\n",
       "    .dataframe tbody tr th:only-of-type {\n",
       "        vertical-align: middle;\n",
       "    }\n",
       "\n",
       "    .dataframe tbody tr th {\n",
       "        vertical-align: top;\n",
       "    }\n",
       "\n",
       "    .dataframe thead th {\n",
       "        text-align: right;\n",
       "    }\n",
       "</style>\n",
       "<table border=\"1\" class=\"dataframe\">\n",
       "  <thead>\n",
       "    <tr style=\"text-align: right;\">\n",
       "      <th></th>\n",
       "      <th>selftext</th>\n",
       "      <th>title</th>\n",
       "      <th>upvote_ratio</th>\n",
       "      <th>subreddit</th>\n",
       "      <th>author</th>\n",
       "      <th>is_self</th>\n",
       "    </tr>\n",
       "  </thead>\n",
       "  <tbody>\n",
       "    <tr>\n",
       "      <th>0</th>\n",
       "      <td>[removed]</td>\n",
       "      <td>Best way to gain MORE experience with a manual?</td>\n",
       "      <td>1.0</td>\n",
       "      <td>cars</td>\n",
       "      <td>helpmebuyacar123</td>\n",
       "      <td>True</td>\n",
       "    </tr>\n",
       "    <tr>\n",
       "      <th>1</th>\n",
       "      <td>NaN</td>\n",
       "      <td>2023 Acura Integra Receiving Optional SH-AWD</td>\n",
       "      <td>1.0</td>\n",
       "      <td>cars</td>\n",
       "      <td>NCSUGrad2012</td>\n",
       "      <td>False</td>\n",
       "    </tr>\n",
       "    <tr>\n",
       "      <th>2</th>\n",
       "      <td>NaN</td>\n",
       "      <td>AutoTrader: Ford Bronco Review: No Doors, No R...</td>\n",
       "      <td>1.0</td>\n",
       "      <td>cars</td>\n",
       "      <td>Delta_Mike_Sierra_</td>\n",
       "      <td>False</td>\n",
       "    </tr>\n",
       "    <tr>\n",
       "      <th>3</th>\n",
       "      <td>[removed]</td>\n",
       "      <td>Help identifying my Great Grandfathers car (1910)</td>\n",
       "      <td>1.0</td>\n",
       "      <td>cars</td>\n",
       "      <td>fkncatalinawinemixer</td>\n",
       "      <td>True</td>\n",
       "    </tr>\n",
       "    <tr>\n",
       "      <th>4</th>\n",
       "      <td>NaN</td>\n",
       "      <td>West Virginia House bill would ban OTA updates</td>\n",
       "      <td>1.0</td>\n",
       "      <td>cars</td>\n",
       "      <td>borderwave2</td>\n",
       "      <td>False</td>\n",
       "    </tr>\n",
       "  </tbody>\n",
       "</table>\n",
       "</div>"
      ],
      "text/plain": [
       "    selftext                                              title  upvote_ratio  \\\n",
       "0  [removed]    Best way to gain MORE experience with a manual?           1.0   \n",
       "1        NaN       2023 Acura Integra Receiving Optional SH-AWD           1.0   \n",
       "2        NaN  AutoTrader: Ford Bronco Review: No Doors, No R...           1.0   \n",
       "3  [removed]  Help identifying my Great Grandfathers car (1910)           1.0   \n",
       "4        NaN     West Virginia House bill would ban OTA updates           1.0   \n",
       "\n",
       "  subreddit                author  is_self  \n",
       "0      cars      helpmebuyacar123     True  \n",
       "1      cars          NCSUGrad2012    False  \n",
       "2      cars    Delta_Mike_Sierra_    False  \n",
       "3      cars  fkncatalinawinemixer     True  \n",
       "4      cars           borderwave2    False  "
      ]
     },
     "execution_count": 9,
     "metadata": {},
     "output_type": "execute_result"
    }
   ],
   "source": [
    "cars.head()"
   ]
  },
  {
   "cell_type": "code",
   "execution_count": 10,
   "metadata": {},
   "outputs": [
    {
     "data": {
      "text/plain": [
       "1.00    0.991154\n",
       "0.99    0.008033\n",
       "0.50    0.000610\n",
       "0.33    0.000102\n",
       "0.67    0.000102\n",
       "Name: upvote_ratio, dtype: float64"
      ]
     },
     "execution_count": 10,
     "metadata": {},
     "output_type": "execute_result"
    }
   ],
   "source": [
    "cars['upvote_ratio'].value_counts(normalize=True)\n",
    "# since upvote ratio = 1 takes up 99% of the data, we will drop this column."
   ]
  },
  {
   "cell_type": "code",
   "execution_count": 11,
   "metadata": {},
   "outputs": [],
   "source": [
    "cars.drop(columns='upvote_ratio', inplace=True)"
   ]
  },
  {
   "cell_type": "code",
   "execution_count": 12,
   "metadata": {},
   "outputs": [
    {
     "data": {
      "text/html": [
       "<div>\n",
       "<style scoped>\n",
       "    .dataframe tbody tr th:only-of-type {\n",
       "        vertical-align: middle;\n",
       "    }\n",
       "\n",
       "    .dataframe tbody tr th {\n",
       "        vertical-align: top;\n",
       "    }\n",
       "\n",
       "    .dataframe thead th {\n",
       "        text-align: right;\n",
       "    }\n",
       "</style>\n",
       "<table border=\"1\" class=\"dataframe\">\n",
       "  <thead>\n",
       "    <tr style=\"text-align: right;\">\n",
       "      <th></th>\n",
       "      <th>selftext</th>\n",
       "      <th>title</th>\n",
       "      <th>subreddit</th>\n",
       "      <th>author</th>\n",
       "      <th>is_self</th>\n",
       "    </tr>\n",
       "  </thead>\n",
       "  <tbody>\n",
       "    <tr>\n",
       "      <th>0</th>\n",
       "      <td>[removed]</td>\n",
       "      <td>Best way to gain MORE experience with a manual?</td>\n",
       "      <td>cars</td>\n",
       "      <td>helpmebuyacar123</td>\n",
       "      <td>True</td>\n",
       "    </tr>\n",
       "    <tr>\n",
       "      <th>3</th>\n",
       "      <td>[removed]</td>\n",
       "      <td>Help identifying my Great Grandfathers car (1910)</td>\n",
       "      <td>cars</td>\n",
       "      <td>fkncatalinawinemixer</td>\n",
       "      <td>True</td>\n",
       "    </tr>\n",
       "    <tr>\n",
       "      <th>7</th>\n",
       "      <td>[removed]</td>\n",
       "      <td>Why would you ever get a Black Ford Explorer</td>\n",
       "      <td>cars</td>\n",
       "      <td>Independent-Win-4187</td>\n",
       "      <td>True</td>\n",
       "    </tr>\n",
       "    <tr>\n",
       "      <th>12</th>\n",
       "      <td>[removed]</td>\n",
       "      <td>LS400, futur classic ?</td>\n",
       "      <td>cars</td>\n",
       "      <td>Sanglor</td>\n",
       "      <td>True</td>\n",
       "    </tr>\n",
       "    <tr>\n",
       "      <th>18</th>\n",
       "      <td>[removed]</td>\n",
       "      <td>high rpm while driving</td>\n",
       "      <td>cars</td>\n",
       "      <td>2016jimny</td>\n",
       "      <td>True</td>\n",
       "    </tr>\n",
       "    <tr>\n",
       "      <th>...</th>\n",
       "      <td>...</td>\n",
       "      <td>...</td>\n",
       "      <td>...</td>\n",
       "      <td>...</td>\n",
       "      <td>...</td>\n",
       "    </tr>\n",
       "    <tr>\n",
       "      <th>9820</th>\n",
       "      <td>[removed]</td>\n",
       "      <td>What are the siding selectors on automotive he...</td>\n",
       "      <td>cars</td>\n",
       "      <td>Nandabun</td>\n",
       "      <td>True</td>\n",
       "    </tr>\n",
       "    <tr>\n",
       "      <th>9821</th>\n",
       "      <td>[removed]</td>\n",
       "      <td>Why are all the new car designs so hideous?</td>\n",
       "      <td>cars</td>\n",
       "      <td>LightRockzz</td>\n",
       "      <td>True</td>\n",
       "    </tr>\n",
       "    <tr>\n",
       "      <th>9827</th>\n",
       "      <td>[removed]</td>\n",
       "      <td>Would cars look differently if efficiency and ...</td>\n",
       "      <td>cars</td>\n",
       "      <td>skyesdow</td>\n",
       "      <td>True</td>\n",
       "    </tr>\n",
       "    <tr>\n",
       "      <th>9830</th>\n",
       "      <td>[removed]</td>\n",
       "      <td>What is the best car to buy that makes people ...</td>\n",
       "      <td>cars</td>\n",
       "      <td>NervusTrader</td>\n",
       "      <td>True</td>\n",
       "    </tr>\n",
       "    <tr>\n",
       "      <th>9832</th>\n",
       "      <td>[removed]</td>\n",
       "      <td>Is a 2011 Kia Forte for 3900 a good deal and i...</td>\n",
       "      <td>cars</td>\n",
       "      <td>Abcd403044</td>\n",
       "      <td>True</td>\n",
       "    </tr>\n",
       "  </tbody>\n",
       "</table>\n",
       "<p>4562 rows × 5 columns</p>\n",
       "</div>"
      ],
      "text/plain": [
       "       selftext                                              title subreddit  \\\n",
       "0     [removed]    Best way to gain MORE experience with a manual?      cars   \n",
       "3     [removed]  Help identifying my Great Grandfathers car (1910)      cars   \n",
       "7     [removed]       Why would you ever get a Black Ford Explorer      cars   \n",
       "12    [removed]                             LS400, futur classic ?      cars   \n",
       "18    [removed]                             high rpm while driving      cars   \n",
       "...         ...                                                ...       ...   \n",
       "9820  [removed]  What are the siding selectors on automotive he...      cars   \n",
       "9821  [removed]        Why are all the new car designs so hideous?      cars   \n",
       "9827  [removed]  Would cars look differently if efficiency and ...      cars   \n",
       "9830  [removed]  What is the best car to buy that makes people ...      cars   \n",
       "9832  [removed]  Is a 2011 Kia Forte for 3900 a good deal and i...      cars   \n",
       "\n",
       "                    author  is_self  \n",
       "0         helpmebuyacar123     True  \n",
       "3     fkncatalinawinemixer     True  \n",
       "7     Independent-Win-4187     True  \n",
       "12                 Sanglor     True  \n",
       "18               2016jimny     True  \n",
       "...                    ...      ...  \n",
       "9820              Nandabun     True  \n",
       "9821           LightRockzz     True  \n",
       "9827              skyesdow     True  \n",
       "9830          NervusTrader     True  \n",
       "9832            Abcd403044     True  \n",
       "\n",
       "[4562 rows x 5 columns]"
      ]
     },
     "execution_count": 12,
     "metadata": {},
     "output_type": "execute_result"
    }
   ],
   "source": [
    "cars[cars['selftext'] == '[removed]']\n",
    "# since [removed] is around 50%, replace all null values with [removed] "
   ]
  },
  {
   "cell_type": "code",
   "execution_count": 13,
   "metadata": {},
   "outputs": [
    {
     "data": {
      "text/html": [
       "<div>\n",
       "<style scoped>\n",
       "    .dataframe tbody tr th:only-of-type {\n",
       "        vertical-align: middle;\n",
       "    }\n",
       "\n",
       "    .dataframe tbody tr th {\n",
       "        vertical-align: top;\n",
       "    }\n",
       "\n",
       "    .dataframe thead th {\n",
       "        text-align: right;\n",
       "    }\n",
       "</style>\n",
       "<table border=\"1\" class=\"dataframe\">\n",
       "  <thead>\n",
       "    <tr style=\"text-align: right;\">\n",
       "      <th></th>\n",
       "      <th>selftext</th>\n",
       "      <th>title</th>\n",
       "      <th>subreddit</th>\n",
       "      <th>author</th>\n",
       "      <th>is_self</th>\n",
       "    </tr>\n",
       "  </thead>\n",
       "  <tbody>\n",
       "    <tr>\n",
       "      <th>0</th>\n",
       "      <td>[removed]</td>\n",
       "      <td>Best way to gain MORE experience with a manual?</td>\n",
       "      <td>cars</td>\n",
       "      <td>helpmebuyacar123</td>\n",
       "      <td>True</td>\n",
       "    </tr>\n",
       "    <tr>\n",
       "      <th>1</th>\n",
       "      <td>[removed]</td>\n",
       "      <td>2023 Acura Integra Receiving Optional SH-AWD</td>\n",
       "      <td>cars</td>\n",
       "      <td>NCSUGrad2012</td>\n",
       "      <td>False</td>\n",
       "    </tr>\n",
       "    <tr>\n",
       "      <th>2</th>\n",
       "      <td>[removed]</td>\n",
       "      <td>AutoTrader: Ford Bronco Review: No Doors, No R...</td>\n",
       "      <td>cars</td>\n",
       "      <td>Delta_Mike_Sierra_</td>\n",
       "      <td>False</td>\n",
       "    </tr>\n",
       "    <tr>\n",
       "      <th>3</th>\n",
       "      <td>[removed]</td>\n",
       "      <td>Help identifying my Great Grandfathers car (1910)</td>\n",
       "      <td>cars</td>\n",
       "      <td>fkncatalinawinemixer</td>\n",
       "      <td>True</td>\n",
       "    </tr>\n",
       "    <tr>\n",
       "      <th>4</th>\n",
       "      <td>[removed]</td>\n",
       "      <td>West Virginia House bill would ban OTA updates</td>\n",
       "      <td>cars</td>\n",
       "      <td>borderwave2</td>\n",
       "      <td>False</td>\n",
       "    </tr>\n",
       "    <tr>\n",
       "      <th>...</th>\n",
       "      <td>...</td>\n",
       "      <td>...</td>\n",
       "      <td>...</td>\n",
       "      <td>...</td>\n",
       "      <td>...</td>\n",
       "    </tr>\n",
       "    <tr>\n",
       "      <th>9828</th>\n",
       "      <td>[removed]</td>\n",
       "      <td>BMW iX3 review: Spot the electric vehicle</td>\n",
       "      <td>cars</td>\n",
       "      <td>Elliottafc1</td>\n",
       "      <td>False</td>\n",
       "    </tr>\n",
       "    <tr>\n",
       "      <th>9830</th>\n",
       "      <td>[removed]</td>\n",
       "      <td>What is the best car to buy that makes people ...</td>\n",
       "      <td>cars</td>\n",
       "      <td>NervusTrader</td>\n",
       "      <td>True</td>\n",
       "    </tr>\n",
       "    <tr>\n",
       "      <th>9831</th>\n",
       "      <td>[removed]</td>\n",
       "      <td>Huawei's electric car introduced</td>\n",
       "      <td>cars</td>\n",
       "      <td>voltner10</td>\n",
       "      <td>False</td>\n",
       "    </tr>\n",
       "    <tr>\n",
       "      <th>9832</th>\n",
       "      <td>[removed]</td>\n",
       "      <td>Is a 2011 Kia Forte for 3900 a good deal and i...</td>\n",
       "      <td>cars</td>\n",
       "      <td>Abcd403044</td>\n",
       "      <td>True</td>\n",
       "    </tr>\n",
       "    <tr>\n",
       "      <th>9833</th>\n",
       "      <td>[removed]</td>\n",
       "      <td>Below Link</td>\n",
       "      <td>cars</td>\n",
       "      <td>vaibhavj82</td>\n",
       "      <td>False</td>\n",
       "    </tr>\n",
       "  </tbody>\n",
       "</table>\n",
       "<p>7288 rows × 5 columns</p>\n",
       "</div>"
      ],
      "text/plain": [
       "       selftext                                              title subreddit  \\\n",
       "0     [removed]    Best way to gain MORE experience with a manual?      cars   \n",
       "1     [removed]       2023 Acura Integra Receiving Optional SH-AWD      cars   \n",
       "2     [removed]  AutoTrader: Ford Bronco Review: No Doors, No R...      cars   \n",
       "3     [removed]  Help identifying my Great Grandfathers car (1910)      cars   \n",
       "4     [removed]     West Virginia House bill would ban OTA updates      cars   \n",
       "...         ...                                                ...       ...   \n",
       "9828  [removed]          BMW iX3 review: Spot the electric vehicle      cars   \n",
       "9830  [removed]  What is the best car to buy that makes people ...      cars   \n",
       "9831  [removed]                   Huawei's electric car introduced      cars   \n",
       "9832  [removed]  Is a 2011 Kia Forte for 3900 a good deal and i...      cars   \n",
       "9833  [removed]                                         Below Link      cars   \n",
       "\n",
       "                    author  is_self  \n",
       "0         helpmebuyacar123     True  \n",
       "1             NCSUGrad2012    False  \n",
       "2       Delta_Mike_Sierra_    False  \n",
       "3     fkncatalinawinemixer     True  \n",
       "4              borderwave2    False  \n",
       "...                    ...      ...  \n",
       "9828           Elliottafc1    False  \n",
       "9830          NervusTrader     True  \n",
       "9831             voltner10    False  \n",
       "9832            Abcd403044     True  \n",
       "9833            vaibhavj82    False  \n",
       "\n",
       "[7288 rows x 5 columns]"
      ]
     },
     "execution_count": 13,
     "metadata": {},
     "output_type": "execute_result"
    }
   ],
   "source": [
    "cars['selftext'].fillna('[removed]',inplace=True)\n",
    "cars[cars['selftext'] == '[removed]'] # will be concatenating title with self text, so all removed rename to ' '"
   ]
  },
  {
   "cell_type": "code",
   "execution_count": 14,
   "metadata": {},
   "outputs": [
    {
     "data": {
      "text/html": [
       "<div>\n",
       "<style scoped>\n",
       "    .dataframe tbody tr th:only-of-type {\n",
       "        vertical-align: middle;\n",
       "    }\n",
       "\n",
       "    .dataframe tbody tr th {\n",
       "        vertical-align: top;\n",
       "    }\n",
       "\n",
       "    .dataframe thead th {\n",
       "        text-align: right;\n",
       "    }\n",
       "</style>\n",
       "<table border=\"1\" class=\"dataframe\">\n",
       "  <thead>\n",
       "    <tr style=\"text-align: right;\">\n",
       "      <th></th>\n",
       "      <th>selftext</th>\n",
       "      <th>title</th>\n",
       "      <th>subreddit</th>\n",
       "      <th>author</th>\n",
       "      <th>is_self</th>\n",
       "    </tr>\n",
       "  </thead>\n",
       "  <tbody>\n",
       "    <tr>\n",
       "      <th>0</th>\n",
       "      <td></td>\n",
       "      <td>Best way to gain MORE experience with a manual?</td>\n",
       "      <td>cars</td>\n",
       "      <td>helpmebuyacar123</td>\n",
       "      <td>True</td>\n",
       "    </tr>\n",
       "    <tr>\n",
       "      <th>1</th>\n",
       "      <td></td>\n",
       "      <td>2023 Acura Integra Receiving Optional SH-AWD</td>\n",
       "      <td>cars</td>\n",
       "      <td>NCSUGrad2012</td>\n",
       "      <td>False</td>\n",
       "    </tr>\n",
       "    <tr>\n",
       "      <th>2</th>\n",
       "      <td></td>\n",
       "      <td>AutoTrader: Ford Bronco Review: No Doors, No R...</td>\n",
       "      <td>cars</td>\n",
       "      <td>Delta_Mike_Sierra_</td>\n",
       "      <td>False</td>\n",
       "    </tr>\n",
       "    <tr>\n",
       "      <th>3</th>\n",
       "      <td></td>\n",
       "      <td>Help identifying my Great Grandfathers car (1910)</td>\n",
       "      <td>cars</td>\n",
       "      <td>fkncatalinawinemixer</td>\n",
       "      <td>True</td>\n",
       "    </tr>\n",
       "    <tr>\n",
       "      <th>4</th>\n",
       "      <td></td>\n",
       "      <td>West Virginia House bill would ban OTA updates</td>\n",
       "      <td>cars</td>\n",
       "      <td>borderwave2</td>\n",
       "      <td>False</td>\n",
       "    </tr>\n",
       "  </tbody>\n",
       "</table>\n",
       "</div>"
      ],
      "text/plain": [
       "  selftext                                              title subreddit  \\\n",
       "0             Best way to gain MORE experience with a manual?      cars   \n",
       "1                2023 Acura Integra Receiving Optional SH-AWD      cars   \n",
       "2           AutoTrader: Ford Bronco Review: No Doors, No R...      cars   \n",
       "3           Help identifying my Great Grandfathers car (1910)      cars   \n",
       "4              West Virginia House bill would ban OTA updates      cars   \n",
       "\n",
       "                 author  is_self  \n",
       "0      helpmebuyacar123     True  \n",
       "1          NCSUGrad2012    False  \n",
       "2    Delta_Mike_Sierra_    False  \n",
       "3  fkncatalinawinemixer     True  \n",
       "4           borderwave2    False  "
      ]
     },
     "execution_count": 14,
     "metadata": {},
     "output_type": "execute_result"
    }
   ],
   "source": [
    "cars['selftext'].replace('[removed]',' ',inplace=True)\n",
    "cars.head()"
   ]
  },
  {
   "cell_type": "code",
   "execution_count": 15,
   "metadata": {
    "scrolled": true
   },
   "outputs": [
    {
     "name": "stdout",
     "output_type": "stream",
     "text": [
      "<class 'pandas.core.frame.DataFrame'>\n",
      "RangeIndex: 9835 entries, 0 to 9834\n",
      "Data columns (total 5 columns):\n",
      " #   Column     Non-Null Count  Dtype \n",
      "---  ------     --------------  ----- \n",
      " 0   selftext   9835 non-null   object\n",
      " 1   title      9835 non-null   object\n",
      " 2   subreddit  9835 non-null   object\n",
      " 3   author     9835 non-null   object\n",
      " 4   is_self    9835 non-null   bool  \n",
      "dtypes: bool(1), object(4)\n",
      "memory usage: 317.1+ KB\n"
     ]
    }
   ],
   "source": [
    "cars.info() # no more null values"
   ]
  },
  {
   "cell_type": "code",
   "execution_count": 16,
   "metadata": {},
   "outputs": [
    {
     "data": {
      "text/plain": [
       "(9852, 6)"
      ]
     },
     "execution_count": 16,
     "metadata": {},
     "output_type": "execute_result"
    }
   ],
   "source": [
    "bikes.shape"
   ]
  },
  {
   "cell_type": "code",
   "execution_count": 17,
   "metadata": {},
   "outputs": [
    {
     "name": "stdout",
     "output_type": "stream",
     "text": [
      "<class 'pandas.core.frame.DataFrame'>\n",
      "RangeIndex: 9852 entries, 0 to 9851\n",
      "Data columns (total 6 columns):\n",
      " #   Column        Non-Null Count  Dtype  \n",
      "---  ------        --------------  -----  \n",
      " 0   selftext      2411 non-null   object \n",
      " 1   title         9852 non-null   object \n",
      " 2   upvote_ratio  9852 non-null   float64\n",
      " 3   subreddit     9852 non-null   object \n",
      " 4   author        9852 non-null   object \n",
      " 5   is_self       9852 non-null   bool   \n",
      "dtypes: bool(1), float64(1), object(4)\n",
      "memory usage: 394.6+ KB\n"
     ]
    }
   ],
   "source": [
    "bikes.info()"
   ]
  },
  {
   "cell_type": "code",
   "execution_count": 18,
   "metadata": {},
   "outputs": [
    {
     "data": {
      "text/plain": [
       "selftext        7441\n",
       "title              0\n",
       "upvote_ratio       0\n",
       "subreddit          0\n",
       "author             0\n",
       "is_self            0\n",
       "dtype: int64"
      ]
     },
     "execution_count": 18,
     "metadata": {},
     "output_type": "execute_result"
    }
   ],
   "source": [
    "bikes.isnull().sum()"
   ]
  },
  {
   "cell_type": "code",
   "execution_count": 19,
   "metadata": {},
   "outputs": [
    {
     "data": {
      "text/html": [
       "<div>\n",
       "<style scoped>\n",
       "    .dataframe tbody tr th:only-of-type {\n",
       "        vertical-align: middle;\n",
       "    }\n",
       "\n",
       "    .dataframe tbody tr th {\n",
       "        vertical-align: top;\n",
       "    }\n",
       "\n",
       "    .dataframe thead th {\n",
       "        text-align: right;\n",
       "    }\n",
       "</style>\n",
       "<table border=\"1\" class=\"dataframe\">\n",
       "  <thead>\n",
       "    <tr style=\"text-align: right;\">\n",
       "      <th></th>\n",
       "      <th>selftext</th>\n",
       "      <th>title</th>\n",
       "      <th>upvote_ratio</th>\n",
       "      <th>subreddit</th>\n",
       "      <th>author</th>\n",
       "      <th>is_self</th>\n",
       "    </tr>\n",
       "  </thead>\n",
       "  <tbody>\n",
       "    <tr>\n",
       "      <th>0</th>\n",
       "      <td>NaN</td>\n",
       "      <td>My new classic motorcycle</td>\n",
       "      <td>1.0</td>\n",
       "      <td>motorcycle</td>\n",
       "      <td>Puzzleheaded_Pipe734</td>\n",
       "      <td>False</td>\n",
       "    </tr>\n",
       "    <tr>\n",
       "      <th>1</th>\n",
       "      <td>How often should I run my 1983 goldwing to avo...</td>\n",
       "      <td>Staying Alive</td>\n",
       "      <td>1.0</td>\n",
       "      <td>motorcycle</td>\n",
       "      <td>Puzzleheaded_Pipe734</td>\n",
       "      <td>True</td>\n",
       "    </tr>\n",
       "    <tr>\n",
       "      <th>2</th>\n",
       "      <td>Kind of in the title. I picked up a Suzuki Vol...</td>\n",
       "      <td>First Timer Question, Suzuki Volusia</td>\n",
       "      <td>1.0</td>\n",
       "      <td>motorcycle</td>\n",
       "      <td>wolfnibblets</td>\n",
       "      <td>True</td>\n",
       "    </tr>\n",
       "    <tr>\n",
       "      <th>3</th>\n",
       "      <td>Also, I bought this bike 2nd-hand from a deale...</td>\n",
       "      <td>Is this pitting indicative of anything?</td>\n",
       "      <td>1.0</td>\n",
       "      <td>motorcycle</td>\n",
       "      <td>SoupyDelicious</td>\n",
       "      <td>True</td>\n",
       "    </tr>\n",
       "    <tr>\n",
       "      <th>4</th>\n",
       "      <td>NaN</td>\n",
       "      <td>Rainbow - Death Alley Driver (1982)</td>\n",
       "      <td>1.0</td>\n",
       "      <td>motorcycle</td>\n",
       "      <td>mattjshermandotcom</td>\n",
       "      <td>False</td>\n",
       "    </tr>\n",
       "  </tbody>\n",
       "</table>\n",
       "</div>"
      ],
      "text/plain": [
       "                                            selftext  \\\n",
       "0                                                NaN   \n",
       "1  How often should I run my 1983 goldwing to avo...   \n",
       "2  Kind of in the title. I picked up a Suzuki Vol...   \n",
       "3  Also, I bought this bike 2nd-hand from a deale...   \n",
       "4                                                NaN   \n",
       "\n",
       "                                     title  upvote_ratio   subreddit  \\\n",
       "0                My new classic motorcycle           1.0  motorcycle   \n",
       "1                            Staying Alive           1.0  motorcycle   \n",
       "2     First Timer Question, Suzuki Volusia           1.0  motorcycle   \n",
       "3  Is this pitting indicative of anything?           1.0  motorcycle   \n",
       "4      Rainbow - Death Alley Driver (1982)           1.0  motorcycle   \n",
       "\n",
       "                 author  is_self  \n",
       "0  Puzzleheaded_Pipe734    False  \n",
       "1  Puzzleheaded_Pipe734     True  \n",
       "2          wolfnibblets     True  \n",
       "3        SoupyDelicious     True  \n",
       "4    mattjshermandotcom    False  "
      ]
     },
     "execution_count": 19,
     "metadata": {},
     "output_type": "execute_result"
    }
   ],
   "source": [
    "bikes.head()"
   ]
  },
  {
   "cell_type": "code",
   "execution_count": 20,
   "metadata": {
    "scrolled": true
   },
   "outputs": [
    {
     "data": {
      "text/plain": [
       "1.00    0.970463\n",
       "0.99    0.006192\n",
       "0.50    0.005075\n",
       "0.67    0.002639\n",
       "0.75    0.001523\n",
       "0.98    0.001015\n",
       "0.94    0.001015\n",
       "0.86    0.001015\n",
       "0.97    0.000914\n",
       "0.91    0.000711\n",
       "0.33    0.000711\n",
       "0.83    0.000609\n",
       "0.25    0.000508\n",
       "0.93    0.000508\n",
       "0.92    0.000508\n",
       "0.60    0.000508\n",
       "0.80    0.000508\n",
       "0.96    0.000508\n",
       "0.95    0.000406\n",
       "0.89    0.000406\n",
       "0.40    0.000406\n",
       "0.87    0.000305\n",
       "0.81    0.000305\n",
       "0.84    0.000305\n",
       "0.71    0.000305\n",
       "0.30    0.000203\n",
       "0.82    0.000203\n",
       "0.78    0.000203\n",
       "0.56    0.000203\n",
       "0.64    0.000203\n",
       "0.88    0.000203\n",
       "0.70    0.000102\n",
       "0.61    0.000102\n",
       "0.20    0.000102\n",
       "0.77    0.000102\n",
       "0.29    0.000102\n",
       "0.27    0.000102\n",
       "0.90    0.000102\n",
       "0.59    0.000102\n",
       "0.63    0.000102\n",
       "0.22    0.000102\n",
       "0.43    0.000102\n",
       "0.35    0.000102\n",
       "0.53    0.000102\n",
       "0.11    0.000102\n",
       "Name: upvote_ratio, dtype: float64"
      ]
     },
     "execution_count": 20,
     "metadata": {},
     "output_type": "execute_result"
    }
   ],
   "source": [
    "bikes['upvote_ratio'].value_counts(normalize=True)\n",
    "# since upvote ratio = 1 takes up 97% of the data, we will drop this column."
   ]
  },
  {
   "cell_type": "code",
   "execution_count": 21,
   "metadata": {},
   "outputs": [],
   "source": [
    "bikes.drop(columns='upvote_ratio', inplace=True)"
   ]
  },
  {
   "cell_type": "code",
   "execution_count": 22,
   "metadata": {},
   "outputs": [
    {
     "data": {
      "text/html": [
       "<div>\n",
       "<style scoped>\n",
       "    .dataframe tbody tr th:only-of-type {\n",
       "        vertical-align: middle;\n",
       "    }\n",
       "\n",
       "    .dataframe tbody tr th {\n",
       "        vertical-align: top;\n",
       "    }\n",
       "\n",
       "    .dataframe thead th {\n",
       "        text-align: right;\n",
       "    }\n",
       "</style>\n",
       "<table border=\"1\" class=\"dataframe\">\n",
       "  <thead>\n",
       "    <tr style=\"text-align: right;\">\n",
       "      <th></th>\n",
       "      <th>selftext</th>\n",
       "      <th>title</th>\n",
       "      <th>subreddit</th>\n",
       "      <th>author</th>\n",
       "      <th>is_self</th>\n",
       "    </tr>\n",
       "  </thead>\n",
       "  <tbody>\n",
       "    <tr>\n",
       "      <th>160</th>\n",
       "      <td>[removed]</td>\n",
       "      <td>Bike Riding Gears – The Indispensable Protecti...</td>\n",
       "      <td>motorcycle</td>\n",
       "      <td>Jhoncan</td>\n",
       "      <td>True</td>\n",
       "    </tr>\n",
       "    <tr>\n",
       "      <th>444</th>\n",
       "      <td>[removed]</td>\n",
       "      <td>Motorcyclist Survey</td>\n",
       "      <td>motorcycle</td>\n",
       "      <td>jimmybondi67</td>\n",
       "      <td>True</td>\n",
       "    </tr>\n",
       "    <tr>\n",
       "      <th>613</th>\n",
       "      <td>[removed]</td>\n",
       "      <td>Little help to a fellow rider !</td>\n",
       "      <td>motorcycle</td>\n",
       "      <td>xrhstos98</td>\n",
       "      <td>True</td>\n",
       "    </tr>\n",
       "    <tr>\n",
       "      <th>726</th>\n",
       "      <td>[removed]</td>\n",
       "      <td>Holiday Recommendations from Your CFMOTO ATV D...</td>\n",
       "      <td>motorcycle</td>\n",
       "      <td>johnnykspowersports</td>\n",
       "      <td>True</td>\n",
       "    </tr>\n",
       "    <tr>\n",
       "      <th>744</th>\n",
       "      <td>[removed]</td>\n",
       "      <td>My first motorcycle</td>\n",
       "      <td>motorcycle</td>\n",
       "      <td>Motorcyclelunatic</td>\n",
       "      <td>True</td>\n",
       "    </tr>\n",
       "    <tr>\n",
       "      <th>...</th>\n",
       "      <td>...</td>\n",
       "      <td>...</td>\n",
       "      <td>...</td>\n",
       "      <td>...</td>\n",
       "      <td>...</td>\n",
       "    </tr>\n",
       "    <tr>\n",
       "      <th>8304</th>\n",
       "      <td>[removed]</td>\n",
       "      <td>Will I get in trouble if my brother or sister ...</td>\n",
       "      <td>motorcycle</td>\n",
       "      <td>One_Assignment_8741</td>\n",
       "      <td>True</td>\n",
       "    </tr>\n",
       "    <tr>\n",
       "      <th>8757</th>\n",
       "      <td>[removed]</td>\n",
       "      <td>Help him get a motorcycle</td>\n",
       "      <td>motorcycle</td>\n",
       "      <td>Gamecarer</td>\n",
       "      <td>True</td>\n",
       "    </tr>\n",
       "    <tr>\n",
       "      <th>9173</th>\n",
       "      <td>[removed]</td>\n",
       "      <td>Selling</td>\n",
       "      <td>motorcycle</td>\n",
       "      <td>No-Let2924</td>\n",
       "      <td>True</td>\n",
       "    </tr>\n",
       "    <tr>\n",
       "      <th>9582</th>\n",
       "      <td>[removed]</td>\n",
       "      <td>Motorcycle Rider with Hyperacusis</td>\n",
       "      <td>motorcycle</td>\n",
       "      <td>jaredbogue</td>\n",
       "      <td>True</td>\n",
       "    </tr>\n",
       "    <tr>\n",
       "      <th>9656</th>\n",
       "      <td>[removed]</td>\n",
       "      <td>Why is there not much AWD motorcycles in the m...</td>\n",
       "      <td>motorcycle</td>\n",
       "      <td>Financial_Phone_8321</td>\n",
       "      <td>True</td>\n",
       "    </tr>\n",
       "  </tbody>\n",
       "</table>\n",
       "<p>103 rows × 5 columns</p>\n",
       "</div>"
      ],
      "text/plain": [
       "       selftext                                              title  \\\n",
       "160   [removed]  Bike Riding Gears – The Indispensable Protecti...   \n",
       "444   [removed]                                Motorcyclist Survey   \n",
       "613   [removed]                    Little help to a fellow rider !   \n",
       "726   [removed]  Holiday Recommendations from Your CFMOTO ATV D...   \n",
       "744   [removed]                                My first motorcycle   \n",
       "...         ...                                                ...   \n",
       "8304  [removed]  Will I get in trouble if my brother or sister ...   \n",
       "8757  [removed]                          Help him get a motorcycle   \n",
       "9173  [removed]                                            Selling   \n",
       "9582  [removed]                  Motorcycle Rider with Hyperacusis   \n",
       "9656  [removed]  Why is there not much AWD motorcycles in the m...   \n",
       "\n",
       "       subreddit                author  is_self  \n",
       "160   motorcycle               Jhoncan     True  \n",
       "444   motorcycle          jimmybondi67     True  \n",
       "613   motorcycle             xrhstos98     True  \n",
       "726   motorcycle   johnnykspowersports     True  \n",
       "744   motorcycle     Motorcyclelunatic     True  \n",
       "...          ...                   ...      ...  \n",
       "8304  motorcycle   One_Assignment_8741     True  \n",
       "8757  motorcycle             Gamecarer     True  \n",
       "9173  motorcycle            No-Let2924     True  \n",
       "9582  motorcycle            jaredbogue     True  \n",
       "9656  motorcycle  Financial_Phone_8321     True  \n",
       "\n",
       "[103 rows x 5 columns]"
      ]
     },
     "execution_count": 22,
     "metadata": {},
     "output_type": "execute_result"
    }
   ],
   "source": [
    "bikes[bikes['selftext'] == '[removed]']\n",
    "# following cars dataset, replace all null values with [removed] "
   ]
  },
  {
   "cell_type": "code",
   "execution_count": 23,
   "metadata": {},
   "outputs": [
    {
     "data": {
      "text/html": [
       "<div>\n",
       "<style scoped>\n",
       "    .dataframe tbody tr th:only-of-type {\n",
       "        vertical-align: middle;\n",
       "    }\n",
       "\n",
       "    .dataframe tbody tr th {\n",
       "        vertical-align: top;\n",
       "    }\n",
       "\n",
       "    .dataframe thead th {\n",
       "        text-align: right;\n",
       "    }\n",
       "</style>\n",
       "<table border=\"1\" class=\"dataframe\">\n",
       "  <thead>\n",
       "    <tr style=\"text-align: right;\">\n",
       "      <th></th>\n",
       "      <th>selftext</th>\n",
       "      <th>title</th>\n",
       "      <th>subreddit</th>\n",
       "      <th>author</th>\n",
       "      <th>is_self</th>\n",
       "    </tr>\n",
       "  </thead>\n",
       "  <tbody>\n",
       "    <tr>\n",
       "      <th>0</th>\n",
       "      <td></td>\n",
       "      <td>My new classic motorcycle</td>\n",
       "      <td>motorcycle</td>\n",
       "      <td>Puzzleheaded_Pipe734</td>\n",
       "      <td>False</td>\n",
       "    </tr>\n",
       "    <tr>\n",
       "      <th>1</th>\n",
       "      <td>How often should I run my 1983 goldwing to avo...</td>\n",
       "      <td>Staying Alive</td>\n",
       "      <td>motorcycle</td>\n",
       "      <td>Puzzleheaded_Pipe734</td>\n",
       "      <td>True</td>\n",
       "    </tr>\n",
       "    <tr>\n",
       "      <th>2</th>\n",
       "      <td>Kind of in the title. I picked up a Suzuki Vol...</td>\n",
       "      <td>First Timer Question, Suzuki Volusia</td>\n",
       "      <td>motorcycle</td>\n",
       "      <td>wolfnibblets</td>\n",
       "      <td>True</td>\n",
       "    </tr>\n",
       "    <tr>\n",
       "      <th>3</th>\n",
       "      <td>Also, I bought this bike 2nd-hand from a deale...</td>\n",
       "      <td>Is this pitting indicative of anything?</td>\n",
       "      <td>motorcycle</td>\n",
       "      <td>SoupyDelicious</td>\n",
       "      <td>True</td>\n",
       "    </tr>\n",
       "    <tr>\n",
       "      <th>4</th>\n",
       "      <td></td>\n",
       "      <td>Rainbow - Death Alley Driver (1982)</td>\n",
       "      <td>motorcycle</td>\n",
       "      <td>mattjshermandotcom</td>\n",
       "      <td>False</td>\n",
       "    </tr>\n",
       "  </tbody>\n",
       "</table>\n",
       "</div>"
      ],
      "text/plain": [
       "                                            selftext  \\\n",
       "0                                                      \n",
       "1  How often should I run my 1983 goldwing to avo...   \n",
       "2  Kind of in the title. I picked up a Suzuki Vol...   \n",
       "3  Also, I bought this bike 2nd-hand from a deale...   \n",
       "4                                                      \n",
       "\n",
       "                                     title   subreddit                author  \\\n",
       "0                My new classic motorcycle  motorcycle  Puzzleheaded_Pipe734   \n",
       "1                            Staying Alive  motorcycle  Puzzleheaded_Pipe734   \n",
       "2     First Timer Question, Suzuki Volusia  motorcycle          wolfnibblets   \n",
       "3  Is this pitting indicative of anything?  motorcycle        SoupyDelicious   \n",
       "4      Rainbow - Death Alley Driver (1982)  motorcycle    mattjshermandotcom   \n",
       "\n",
       "   is_self  \n",
       "0    False  \n",
       "1     True  \n",
       "2     True  \n",
       "3     True  \n",
       "4    False  "
      ]
     },
     "execution_count": 23,
     "metadata": {},
     "output_type": "execute_result"
    }
   ],
   "source": [
    "bikes['selftext'].fillna('[removed]',inplace=True)\n",
    "bikes[bikes['selftext'] == '[removed]']\n",
    "bikes['selftext'].replace('[removed]',' ',inplace=True)\n",
    "bikes.head()"
   ]
  },
  {
   "cell_type": "code",
   "execution_count": 24,
   "metadata": {
    "scrolled": true
   },
   "outputs": [
    {
     "name": "stdout",
     "output_type": "stream",
     "text": [
      "<class 'pandas.core.frame.DataFrame'>\n",
      "RangeIndex: 9852 entries, 0 to 9851\n",
      "Data columns (total 5 columns):\n",
      " #   Column     Non-Null Count  Dtype \n",
      "---  ------     --------------  ----- \n",
      " 0   selftext   9852 non-null   object\n",
      " 1   title      9852 non-null   object\n",
      " 2   subreddit  9852 non-null   object\n",
      " 3   author     9852 non-null   object\n",
      " 4   is_self    9852 non-null   bool  \n",
      "dtypes: bool(1), object(4)\n",
      "memory usage: 317.6+ KB\n"
     ]
    }
   ],
   "source": [
    "bikes.info() # no more null values"
   ]
  },
  {
   "cell_type": "code",
   "execution_count": 25,
   "metadata": {},
   "outputs": [
    {
     "data": {
      "text/html": [
       "<div>\n",
       "<style scoped>\n",
       "    .dataframe tbody tr th:only-of-type {\n",
       "        vertical-align: middle;\n",
       "    }\n",
       "\n",
       "    .dataframe tbody tr th {\n",
       "        vertical-align: top;\n",
       "    }\n",
       "\n",
       "    .dataframe thead th {\n",
       "        text-align: right;\n",
       "    }\n",
       "</style>\n",
       "<table border=\"1\" class=\"dataframe\">\n",
       "  <thead>\n",
       "    <tr style=\"text-align: right;\">\n",
       "      <th></th>\n",
       "      <th>selftext</th>\n",
       "      <th>title</th>\n",
       "      <th>subreddit</th>\n",
       "      <th>author</th>\n",
       "      <th>is_self</th>\n",
       "    </tr>\n",
       "  </thead>\n",
       "  <tbody>\n",
       "    <tr>\n",
       "      <th>0</th>\n",
       "      <td></td>\n",
       "      <td>Best way to gain MORE experience with a manual?</td>\n",
       "      <td>cars</td>\n",
       "      <td>helpmebuyacar123</td>\n",
       "      <td>True</td>\n",
       "    </tr>\n",
       "    <tr>\n",
       "      <th>1</th>\n",
       "      <td></td>\n",
       "      <td>2023 Acura Integra Receiving Optional SH-AWD</td>\n",
       "      <td>cars</td>\n",
       "      <td>NCSUGrad2012</td>\n",
       "      <td>False</td>\n",
       "    </tr>\n",
       "    <tr>\n",
       "      <th>2</th>\n",
       "      <td></td>\n",
       "      <td>AutoTrader: Ford Bronco Review: No Doors, No R...</td>\n",
       "      <td>cars</td>\n",
       "      <td>Delta_Mike_Sierra_</td>\n",
       "      <td>False</td>\n",
       "    </tr>\n",
       "    <tr>\n",
       "      <th>3</th>\n",
       "      <td></td>\n",
       "      <td>Help identifying my Great Grandfathers car (1910)</td>\n",
       "      <td>cars</td>\n",
       "      <td>fkncatalinawinemixer</td>\n",
       "      <td>True</td>\n",
       "    </tr>\n",
       "    <tr>\n",
       "      <th>4</th>\n",
       "      <td></td>\n",
       "      <td>West Virginia House bill would ban OTA updates</td>\n",
       "      <td>cars</td>\n",
       "      <td>borderwave2</td>\n",
       "      <td>False</td>\n",
       "    </tr>\n",
       "    <tr>\n",
       "      <th>...</th>\n",
       "      <td>...</td>\n",
       "      <td>...</td>\n",
       "      <td>...</td>\n",
       "      <td>...</td>\n",
       "      <td>...</td>\n",
       "    </tr>\n",
       "    <tr>\n",
       "      <th>19682</th>\n",
       "      <td>Got a little bike 250cc and Highways are terri...</td>\n",
       "      <td>Are there a lot of riders that are strictly Ci...</td>\n",
       "      <td>motorcycle</td>\n",
       "      <td>cheeseandwich</td>\n",
       "      <td>True</td>\n",
       "    </tr>\n",
       "    <tr>\n",
       "      <th>19683</th>\n",
       "      <td>Hello all, \\n\\nI am looking at an end of year ...</td>\n",
       "      <td>Buying a damaged bike</td>\n",
       "      <td>motorcycle</td>\n",
       "      <td>Random--J</td>\n",
       "      <td>True</td>\n",
       "    </tr>\n",
       "    <tr>\n",
       "      <th>19684</th>\n",
       "      <td></td>\n",
       "      <td>My Second Bike (2003 R6)</td>\n",
       "      <td>motorcycle</td>\n",
       "      <td>assblister</td>\n",
       "      <td>False</td>\n",
       "    </tr>\n",
       "    <tr>\n",
       "      <th>19685</th>\n",
       "      <td></td>\n",
       "      <td>1200 miles and $4500 worth of work later... th...</td>\n",
       "      <td>motorcycle</td>\n",
       "      <td>noobishchan</td>\n",
       "      <td>False</td>\n",
       "    </tr>\n",
       "    <tr>\n",
       "      <th>19686</th>\n",
       "      <td></td>\n",
       "      <td>can anyone id this lil bike?</td>\n",
       "      <td>motorcycle</td>\n",
       "      <td>ninezerone</td>\n",
       "      <td>False</td>\n",
       "    </tr>\n",
       "  </tbody>\n",
       "</table>\n",
       "<p>19687 rows × 5 columns</p>\n",
       "</div>"
      ],
      "text/plain": [
       "                                                selftext  \\\n",
       "0                                                          \n",
       "1                                                          \n",
       "2                                                          \n",
       "3                                                          \n",
       "4                                                          \n",
       "...                                                  ...   \n",
       "19682  Got a little bike 250cc and Highways are terri...   \n",
       "19683  Hello all, \\n\\nI am looking at an end of year ...   \n",
       "19684                                                      \n",
       "19685                                                      \n",
       "19686                                                      \n",
       "\n",
       "                                                   title   subreddit  \\\n",
       "0        Best way to gain MORE experience with a manual?        cars   \n",
       "1           2023 Acura Integra Receiving Optional SH-AWD        cars   \n",
       "2      AutoTrader: Ford Bronco Review: No Doors, No R...        cars   \n",
       "3      Help identifying my Great Grandfathers car (1910)        cars   \n",
       "4         West Virginia House bill would ban OTA updates        cars   \n",
       "...                                                  ...         ...   \n",
       "19682  Are there a lot of riders that are strictly Ci...  motorcycle   \n",
       "19683                              Buying a damaged bike  motorcycle   \n",
       "19684                           My Second Bike (2003 R6)  motorcycle   \n",
       "19685  1200 miles and $4500 worth of work later... th...  motorcycle   \n",
       "19686                       can anyone id this lil bike?  motorcycle   \n",
       "\n",
       "                     author  is_self  \n",
       "0          helpmebuyacar123     True  \n",
       "1              NCSUGrad2012    False  \n",
       "2        Delta_Mike_Sierra_    False  \n",
       "3      fkncatalinawinemixer     True  \n",
       "4               borderwave2    False  \n",
       "...                     ...      ...  \n",
       "19682         cheeseandwich     True  \n",
       "19683             Random--J     True  \n",
       "19684            assblister    False  \n",
       "19685           noobishchan    False  \n",
       "19686            ninezerone    False  \n",
       "\n",
       "[19687 rows x 5 columns]"
      ]
     },
     "execution_count": 25,
     "metadata": {},
     "output_type": "execute_result"
    }
   ],
   "source": [
    "# merging cars & bikes data\n",
    "df = pd.concat([cars, bikes],axis =0,)\n",
    "df.reset_index(inplace=True)\n",
    "df.drop(columns=['index'], inplace=True)\n",
    "df"
   ]
  },
  {
   "cell_type": "markdown",
   "metadata": {},
   "source": [
    "## Pre-processing & Feature Engineering"
   ]
  },
  {
   "cell_type": "code",
   "execution_count": 26,
   "metadata": {},
   "outputs": [],
   "source": [
    "def text_cleaner(text):\n",
    "    # Make lowercase\n",
    "    text = text.lower()\n",
    "\n",
    "    # Remove non-letters\n",
    "    text = re.sub(\"[^a-zA-Z]\", \" \", text)\n",
    "\n",
    "    # Remove HTML special entities (e.g. &amp;)\n",
    "    text = re.sub(r'\\&\\w*;', '', text)\n",
    "\n",
    "    # Remove hyperlinks\n",
    "    text = re.sub(r'https?:\\/\\/.*\\/\\w*', '', text)\n",
    "\n",
    "    # Remove words with 2 or fewer letters\n",
    "    text = re.sub(r'\\b\\w{1,2}\\b', '', text)\n",
    "\n",
    "    # Remove whitespace (including new line characters)\n",
    "    text = re.sub(r'\\s\\s+', ' ', text)\n",
    "\n",
    "    # Remove characters beyond Basic Multilingual Plane (BMP) of Unicode:\n",
    "    text = ''.join(c for c in text if c <= '\\uFFFF') \n",
    "    \n",
    "    return text"
   ]
  },
  {
   "cell_type": "code",
   "execution_count": 27,
   "metadata": {
    "scrolled": true
   },
   "outputs": [
    {
     "data": {
      "text/html": [
       "<div>\n",
       "<style scoped>\n",
       "    .dataframe tbody tr th:only-of-type {\n",
       "        vertical-align: middle;\n",
       "    }\n",
       "\n",
       "    .dataframe tbody tr th {\n",
       "        vertical-align: top;\n",
       "    }\n",
       "\n",
       "    .dataframe thead th {\n",
       "        text-align: right;\n",
       "    }\n",
       "</style>\n",
       "<table border=\"1\" class=\"dataframe\">\n",
       "  <thead>\n",
       "    <tr style=\"text-align: right;\">\n",
       "      <th></th>\n",
       "      <th>selftext</th>\n",
       "      <th>title</th>\n",
       "      <th>subreddit</th>\n",
       "      <th>author</th>\n",
       "      <th>is_self</th>\n",
       "      <th>all_text</th>\n",
       "    </tr>\n",
       "  </thead>\n",
       "  <tbody>\n",
       "    <tr>\n",
       "      <th>0</th>\n",
       "      <td></td>\n",
       "      <td>Best way to gain MORE experience with a manual?</td>\n",
       "      <td>cars</td>\n",
       "      <td>helpmebuyacar123</td>\n",
       "      <td>True</td>\n",
       "      <td>Best way to gain MORE experience with a manual?</td>\n",
       "    </tr>\n",
       "    <tr>\n",
       "      <th>1</th>\n",
       "      <td></td>\n",
       "      <td>2023 Acura Integra Receiving Optional SH-AWD</td>\n",
       "      <td>cars</td>\n",
       "      <td>NCSUGrad2012</td>\n",
       "      <td>False</td>\n",
       "      <td>2023 Acura Integra Receiving Optional SH-AWD</td>\n",
       "    </tr>\n",
       "    <tr>\n",
       "      <th>2</th>\n",
       "      <td></td>\n",
       "      <td>AutoTrader: Ford Bronco Review: No Doors, No R...</td>\n",
       "      <td>cars</td>\n",
       "      <td>Delta_Mike_Sierra_</td>\n",
       "      <td>False</td>\n",
       "      <td>AutoTrader: Ford Bronco Review: No Doors, No R...</td>\n",
       "    </tr>\n",
       "    <tr>\n",
       "      <th>3</th>\n",
       "      <td></td>\n",
       "      <td>Help identifying my Great Grandfathers car (1910)</td>\n",
       "      <td>cars</td>\n",
       "      <td>fkncatalinawinemixer</td>\n",
       "      <td>True</td>\n",
       "      <td>Help identifying my Great Grandfathers car (19...</td>\n",
       "    </tr>\n",
       "    <tr>\n",
       "      <th>4</th>\n",
       "      <td></td>\n",
       "      <td>West Virginia House bill would ban OTA updates</td>\n",
       "      <td>cars</td>\n",
       "      <td>borderwave2</td>\n",
       "      <td>False</td>\n",
       "      <td>West Virginia House bill would ban OTA updates</td>\n",
       "    </tr>\n",
       "  </tbody>\n",
       "</table>\n",
       "</div>"
      ],
      "text/plain": [
       "  selftext                                              title subreddit  \\\n",
       "0             Best way to gain MORE experience with a manual?      cars   \n",
       "1                2023 Acura Integra Receiving Optional SH-AWD      cars   \n",
       "2           AutoTrader: Ford Bronco Review: No Doors, No R...      cars   \n",
       "3           Help identifying my Great Grandfathers car (1910)      cars   \n",
       "4              West Virginia House bill would ban OTA updates      cars   \n",
       "\n",
       "                 author  is_self  \\\n",
       "0      helpmebuyacar123     True   \n",
       "1          NCSUGrad2012    False   \n",
       "2    Delta_Mike_Sierra_    False   \n",
       "3  fkncatalinawinemixer     True   \n",
       "4           borderwave2    False   \n",
       "\n",
       "                                            all_text  \n",
       "0  Best way to gain MORE experience with a manual?    \n",
       "1     2023 Acura Integra Receiving Optional SH-AWD    \n",
       "2  AutoTrader: Ford Bronco Review: No Doors, No R...  \n",
       "3  Help identifying my Great Grandfathers car (19...  \n",
       "4   West Virginia House bill would ban OTA updates    "
      ]
     },
     "execution_count": 27,
     "metadata": {},
     "output_type": "execute_result"
    }
   ],
   "source": [
    "df['all_text'] = df['title'] + \" \" + df['selftext']\n",
    "df.head()"
   ]
  },
  {
   "cell_type": "code",
   "execution_count": 28,
   "metadata": {},
   "outputs": [
    {
     "data": {
      "text/html": [
       "<div>\n",
       "<style scoped>\n",
       "    .dataframe tbody tr th:only-of-type {\n",
       "        vertical-align: middle;\n",
       "    }\n",
       "\n",
       "    .dataframe tbody tr th {\n",
       "        vertical-align: top;\n",
       "    }\n",
       "\n",
       "    .dataframe thead th {\n",
       "        text-align: right;\n",
       "    }\n",
       "</style>\n",
       "<table border=\"1\" class=\"dataframe\">\n",
       "  <thead>\n",
       "    <tr style=\"text-align: right;\">\n",
       "      <th></th>\n",
       "      <th>selftext</th>\n",
       "      <th>title</th>\n",
       "      <th>subreddit</th>\n",
       "      <th>author</th>\n",
       "      <th>is_self</th>\n",
       "      <th>all_text</th>\n",
       "      <th>all_text_cleaned</th>\n",
       "    </tr>\n",
       "  </thead>\n",
       "  <tbody>\n",
       "    <tr>\n",
       "      <th>0</th>\n",
       "      <td></td>\n",
       "      <td>Best way to gain MORE experience with a manual?</td>\n",
       "      <td>cars</td>\n",
       "      <td>helpmebuyacar123</td>\n",
       "      <td>True</td>\n",
       "      <td>Best way to gain MORE experience with a manual?</td>\n",
       "      <td>best way gain more experience with manual</td>\n",
       "    </tr>\n",
       "    <tr>\n",
       "      <th>1</th>\n",
       "      <td></td>\n",
       "      <td>2023 Acura Integra Receiving Optional SH-AWD</td>\n",
       "      <td>cars</td>\n",
       "      <td>NCSUGrad2012</td>\n",
       "      <td>False</td>\n",
       "      <td>2023 Acura Integra Receiving Optional SH-AWD</td>\n",
       "      <td>acura integra receiving optional awd</td>\n",
       "    </tr>\n",
       "    <tr>\n",
       "      <th>2</th>\n",
       "      <td></td>\n",
       "      <td>AutoTrader: Ford Bronco Review: No Doors, No R...</td>\n",
       "      <td>cars</td>\n",
       "      <td>Delta_Mike_Sierra_</td>\n",
       "      <td>False</td>\n",
       "      <td>AutoTrader: Ford Bronco Review: No Doors, No R...</td>\n",
       "      <td>autotrader ford bronco review doors roof problem</td>\n",
       "    </tr>\n",
       "    <tr>\n",
       "      <th>3</th>\n",
       "      <td></td>\n",
       "      <td>Help identifying my Great Grandfathers car (1910)</td>\n",
       "      <td>cars</td>\n",
       "      <td>fkncatalinawinemixer</td>\n",
       "      <td>True</td>\n",
       "      <td>Help identifying my Great Grandfathers car (19...</td>\n",
       "      <td>help identifying great grandfathers car</td>\n",
       "    </tr>\n",
       "    <tr>\n",
       "      <th>4</th>\n",
       "      <td></td>\n",
       "      <td>West Virginia House bill would ban OTA updates</td>\n",
       "      <td>cars</td>\n",
       "      <td>borderwave2</td>\n",
       "      <td>False</td>\n",
       "      <td>West Virginia House bill would ban OTA updates</td>\n",
       "      <td>west virginia house bill would ban ota updates</td>\n",
       "    </tr>\n",
       "  </tbody>\n",
       "</table>\n",
       "</div>"
      ],
      "text/plain": [
       "  selftext                                              title subreddit  \\\n",
       "0             Best way to gain MORE experience with a manual?      cars   \n",
       "1                2023 Acura Integra Receiving Optional SH-AWD      cars   \n",
       "2           AutoTrader: Ford Bronco Review: No Doors, No R...      cars   \n",
       "3           Help identifying my Great Grandfathers car (1910)      cars   \n",
       "4              West Virginia House bill would ban OTA updates      cars   \n",
       "\n",
       "                 author  is_self  \\\n",
       "0      helpmebuyacar123     True   \n",
       "1          NCSUGrad2012    False   \n",
       "2    Delta_Mike_Sierra_    False   \n",
       "3  fkncatalinawinemixer     True   \n",
       "4           borderwave2    False   \n",
       "\n",
       "                                            all_text  \\\n",
       "0  Best way to gain MORE experience with a manual?     \n",
       "1     2023 Acura Integra Receiving Optional SH-AWD     \n",
       "2  AutoTrader: Ford Bronco Review: No Doors, No R...   \n",
       "3  Help identifying my Great Grandfathers car (19...   \n",
       "4   West Virginia House bill would ban OTA updates     \n",
       "\n",
       "                                    all_text_cleaned  \n",
       "0         best way gain more experience with manual   \n",
       "1              acura integra receiving optional awd   \n",
       "2  autotrader ford bronco review doors roof problem   \n",
       "3           help identifying great grandfathers car   \n",
       "4    west virginia house bill would ban ota updates   "
      ]
     },
     "execution_count": 28,
     "metadata": {},
     "output_type": "execute_result"
    }
   ],
   "source": [
    "df['all_text_cleaned'] = df['all_text'].apply(text_cleaner)\n",
    "df.head()"
   ]
  },
  {
   "cell_type": "code",
   "execution_count": 29,
   "metadata": {
    "scrolled": true
   },
   "outputs": [],
   "source": [
    "# mapping cars as 1, motorcycle as 0\n",
    "df['subreddit'] = df['subreddit'].map({'cars':1, 'motorcycle':0})"
   ]
  },
  {
   "cell_type": "code",
   "execution_count": 30,
   "metadata": {
    "scrolled": false
   },
   "outputs": [
    {
     "name": "stderr",
     "output_type": "stream",
     "text": [
      "C:\\Users\\andre\\anaconda3\\lib\\site-packages\\pandas\\core\\frame.py:4296: SettingWithCopyWarning: \n",
      "A value is trying to be set on a copy of a slice from a DataFrame\n",
      "\n",
      "See the caveats in the documentation: https://pandas.pydata.org/pandas-docs/stable/user_guide/indexing.html#returning-a-view-versus-a-copy\n",
      "  return super().rename(\n"
     ]
    },
    {
     "data": {
      "text/html": [
       "<div>\n",
       "<style scoped>\n",
       "    .dataframe tbody tr th:only-of-type {\n",
       "        vertical-align: middle;\n",
       "    }\n",
       "\n",
       "    .dataframe tbody tr th {\n",
       "        vertical-align: top;\n",
       "    }\n",
       "\n",
       "    .dataframe thead th {\n",
       "        text-align: right;\n",
       "    }\n",
       "</style>\n",
       "<table border=\"1\" class=\"dataframe\">\n",
       "  <thead>\n",
       "    <tr style=\"text-align: right;\">\n",
       "      <th></th>\n",
       "      <th>subreddit</th>\n",
       "      <th>text</th>\n",
       "    </tr>\n",
       "  </thead>\n",
       "  <tbody>\n",
       "    <tr>\n",
       "      <th>0</th>\n",
       "      <td>1</td>\n",
       "      <td>best way gain more experience with manual</td>\n",
       "    </tr>\n",
       "    <tr>\n",
       "      <th>1</th>\n",
       "      <td>1</td>\n",
       "      <td>acura integra receiving optional awd</td>\n",
       "    </tr>\n",
       "    <tr>\n",
       "      <th>2</th>\n",
       "      <td>1</td>\n",
       "      <td>autotrader ford bronco review doors roof problem</td>\n",
       "    </tr>\n",
       "    <tr>\n",
       "      <th>3</th>\n",
       "      <td>1</td>\n",
       "      <td>help identifying great grandfathers car</td>\n",
       "    </tr>\n",
       "    <tr>\n",
       "      <th>4</th>\n",
       "      <td>1</td>\n",
       "      <td>west virginia house bill would ban ota updates</td>\n",
       "    </tr>\n",
       "    <tr>\n",
       "      <th>...</th>\n",
       "      <td>...</td>\n",
       "      <td>...</td>\n",
       "    </tr>\n",
       "    <tr>\n",
       "      <th>19682</th>\n",
       "      <td>0</td>\n",
       "      <td>are there lot riders that are strictly city dr...</td>\n",
       "    </tr>\n",
       "    <tr>\n",
       "      <th>19683</th>\n",
       "      <td>0</td>\n",
       "      <td>buying damaged bike hello all looking end year...</td>\n",
       "    </tr>\n",
       "    <tr>\n",
       "      <th>19684</th>\n",
       "      <td>0</td>\n",
       "      <td>second bike</td>\n",
       "    </tr>\n",
       "    <tr>\n",
       "      <th>19685</th>\n",
       "      <td>0</td>\n",
       "      <td>miles and worth work later thank god for warr...</td>\n",
       "    </tr>\n",
       "    <tr>\n",
       "      <th>19686</th>\n",
       "      <td>0</td>\n",
       "      <td>can anyone this lil bike</td>\n",
       "    </tr>\n",
       "  </tbody>\n",
       "</table>\n",
       "<p>19687 rows × 2 columns</p>\n",
       "</div>"
      ],
      "text/plain": [
       "       subreddit                                               text\n",
       "0              1         best way gain more experience with manual \n",
       "1              1              acura integra receiving optional awd \n",
       "2              1  autotrader ford bronco review doors roof problem \n",
       "3              1           help identifying great grandfathers car \n",
       "4              1    west virginia house bill would ban ota updates \n",
       "...          ...                                                ...\n",
       "19682          0  are there lot riders that are strictly city dr...\n",
       "19683          0  buying damaged bike hello all looking end year...\n",
       "19684          0                                       second bike \n",
       "19685          0   miles and worth work later thank god for warr...\n",
       "19686          0                          can anyone this lil bike \n",
       "\n",
       "[19687 rows x 2 columns]"
      ]
     },
     "execution_count": 30,
     "metadata": {},
     "output_type": "execute_result"
    }
   ],
   "source": [
    "df = df[['subreddit','all_text_cleaned']]\n",
    "df.rename(columns = {'all_text_cleaned':'text'}, inplace = True)\n",
    "df"
   ]
  },
  {
   "cell_type": "code",
   "execution_count": 31,
   "metadata": {},
   "outputs": [],
   "source": [
    "def lemmatize_words(text):\n",
    "    \n",
    "    lemmatizer = WordNetLemmatizer()\n",
    "    \n",
    "    words = text.split()\n",
    "    lemma_words = ''\n",
    "    \n",
    "    # convert nltk stop words to a set\n",
    "    stops = set(stopwords.words('english'))\n",
    "    \n",
    "    # remove stopwords\n",
    "    useful_words = [w for w in words if w not in stops]\n",
    "    \n",
    "    for word in useful_words:\n",
    "        lemma_words += (lemmatizer.lemmatize(word) + ' ')\n",
    "    return lemma_words"
   ]
  },
  {
   "cell_type": "code",
   "execution_count": 32,
   "metadata": {},
   "outputs": [
    {
     "name": "stderr",
     "output_type": "stream",
     "text": [
      "<ipython-input-32-584bcf21b045>:1: SettingWithCopyWarning: \n",
      "A value is trying to be set on a copy of a slice from a DataFrame.\n",
      "Try using .loc[row_indexer,col_indexer] = value instead\n",
      "\n",
      "See the caveats in the documentation: https://pandas.pydata.org/pandas-docs/stable/user_guide/indexing.html#returning-a-view-versus-a-copy\n",
      "  df['text'] = df['text'].apply(lemmatize_words)\n"
     ]
    }
   ],
   "source": [
    "df['text'] = df['text'].apply(lemmatize_words)"
   ]
  },
  {
   "cell_type": "code",
   "execution_count": 33,
   "metadata": {},
   "outputs": [],
   "source": [
    "df.to_csv('../data/df_merged.csv',index=False)"
   ]
  },
  {
   "cell_type": "code",
   "execution_count": 34,
   "metadata": {},
   "outputs": [],
   "source": [
    "df_backup = create_copy(df)"
   ]
  },
  {
   "cell_type": "markdown",
   "metadata": {},
   "source": [
    "## EDA"
   ]
  },
  {
   "cell_type": "code",
   "execution_count": 35,
   "metadata": {},
   "outputs": [
    {
     "name": "stderr",
     "output_type": "stream",
     "text": [
      "<ipython-input-35-0e2b7c3346fd>:1: SettingWithCopyWarning: \n",
      "A value is trying to be set on a copy of a slice from a DataFrame.\n",
      "Try using .loc[row_indexer,col_indexer] = value instead\n",
      "\n",
      "See the caveats in the documentation: https://pandas.pydata.org/pandas-docs/stable/user_guide/indexing.html#returning-a-view-versus-a-copy\n",
      "  df['text_len'] = df['text'].str.len()\n"
     ]
    },
    {
     "data": {
      "text/html": [
       "<div>\n",
       "<style scoped>\n",
       "    .dataframe tbody tr th:only-of-type {\n",
       "        vertical-align: middle;\n",
       "    }\n",
       "\n",
       "    .dataframe tbody tr th {\n",
       "        vertical-align: top;\n",
       "    }\n",
       "\n",
       "    .dataframe thead th {\n",
       "        text-align: right;\n",
       "    }\n",
       "</style>\n",
       "<table border=\"1\" class=\"dataframe\">\n",
       "  <thead>\n",
       "    <tr style=\"text-align: right;\">\n",
       "      <th></th>\n",
       "      <th>subreddit</th>\n",
       "      <th>text</th>\n",
       "      <th>text_len</th>\n",
       "    </tr>\n",
       "  </thead>\n",
       "  <tbody>\n",
       "    <tr>\n",
       "      <th>0</th>\n",
       "      <td>1</td>\n",
       "      <td>best way gain experience manual</td>\n",
       "      <td>32</td>\n",
       "    </tr>\n",
       "    <tr>\n",
       "      <th>1</th>\n",
       "      <td>1</td>\n",
       "      <td>acura integra receiving optional awd</td>\n",
       "      <td>37</td>\n",
       "    </tr>\n",
       "    <tr>\n",
       "      <th>2</th>\n",
       "      <td>1</td>\n",
       "      <td>autotrader ford bronco review door roof problem</td>\n",
       "      <td>48</td>\n",
       "    </tr>\n",
       "    <tr>\n",
       "      <th>3</th>\n",
       "      <td>1</td>\n",
       "      <td>help identifying great grandfather car</td>\n",
       "      <td>39</td>\n",
       "    </tr>\n",
       "    <tr>\n",
       "      <th>4</th>\n",
       "      <td>1</td>\n",
       "      <td>west virginia house bill would ban ota update</td>\n",
       "      <td>46</td>\n",
       "    </tr>\n",
       "    <tr>\n",
       "      <th>...</th>\n",
       "      <td>...</td>\n",
       "      <td>...</td>\n",
       "      <td>...</td>\n",
       "    </tr>\n",
       "    <tr>\n",
       "      <th>19682</th>\n",
       "      <td>0</td>\n",
       "      <td>lot rider strictly city driver highway got lit...</td>\n",
       "      <td>122</td>\n",
       "    </tr>\n",
       "    <tr>\n",
       "      <th>19683</th>\n",
       "      <td>0</td>\n",
       "      <td>buying damaged bike hello looking end year zer...</td>\n",
       "      <td>186</td>\n",
       "    </tr>\n",
       "    <tr>\n",
       "      <th>19684</th>\n",
       "      <td>0</td>\n",
       "      <td>second bike</td>\n",
       "      <td>12</td>\n",
       "    </tr>\n",
       "    <tr>\n",
       "      <th>19685</th>\n",
       "      <td>0</td>\n",
       "      <td>mile worth work later thank god warranty</td>\n",
       "      <td>41</td>\n",
       "    </tr>\n",
       "    <tr>\n",
       "      <th>19686</th>\n",
       "      <td>0</td>\n",
       "      <td>anyone lil bike</td>\n",
       "      <td>16</td>\n",
       "    </tr>\n",
       "  </tbody>\n",
       "</table>\n",
       "<p>19687 rows × 3 columns</p>\n",
       "</div>"
      ],
      "text/plain": [
       "       subreddit                                               text  text_len\n",
       "0              1                   best way gain experience manual         32\n",
       "1              1              acura integra receiving optional awd         37\n",
       "2              1   autotrader ford bronco review door roof problem         48\n",
       "3              1            help identifying great grandfather car         39\n",
       "4              1     west virginia house bill would ban ota update         46\n",
       "...          ...                                                ...       ...\n",
       "19682          0  lot rider strictly city driver highway got lit...       122\n",
       "19683          0  buying damaged bike hello looking end year zer...       186\n",
       "19684          0                                       second bike         12\n",
       "19685          0          mile worth work later thank god warranty         41\n",
       "19686          0                                   anyone lil bike         16\n",
       "\n",
       "[19687 rows x 3 columns]"
      ]
     },
     "execution_count": 35,
     "metadata": {},
     "output_type": "execute_result"
    }
   ],
   "source": [
    "df['text_len'] = df['text'].str.len()\n",
    "df"
   ]
  },
  {
   "cell_type": "code",
   "execution_count": 36,
   "metadata": {},
   "outputs": [
    {
     "data": {
      "text/plain": [
       "[[array([  32,   37,   48,   39,   46,   72,   35,  285,  131,   57,  101,\n",
       "           14,   24,  274,  182,  314,   17,  115,   54,   25,  176,   22,\n",
       "          519,   30,   19,    9,  394,  242,   59,  116,   36,   33,  100,\n",
       "           26,   81,   12,  560,   41,  121,   70,   21,   93,  119,   18,\n",
       "          135,   69,    4,   27,   63,  150,    5,  578,   45,  192,  145,\n",
       "          292,   40,  108,   38,   23,   62,    8,  629,  133,  156,   28,\n",
       "           55,   42,  318,   20,  167,  290,  213,  310,   13,   52,   49,\n",
       "           64,  122,   16,   34,  254,   60,  184,  370,  494,   67,  450,\n",
       "          154,   88,   96,   98,  393,   43,   68,   44,   29,  239,   89,\n",
       "          405,   61,   73,  327,  298,   31,  199,  341,   47,  385,  258,\n",
       "          217,   15,   66,   11,  112,  241,  303,  107,   82,   10,   84,\n",
       "          162,  257,  317,  159,  194,  260,  571,  313,  130,   79,  268,\n",
       "           97,  210,  537,   50,  423,  120,   71,  204,   51,  472,  836,\n",
       "          373,   75,  269,  322,  343, 1583,  174,  171,    6,   56,  125,\n",
       "            0,  591,  520,   53,  144,  118,  149,  126,  193,   58,  406,\n",
       "          132,  289,  381,  240,  165,  256,    7,  595,   74,   76,  136,\n",
       "          196,  134,   80,  169, 1313, 1242,  243,  280,  198,  267,  189,\n",
       "          490,  296,  582,  414,  294,  547,  367,  246,  114,  368,  464,\n",
       "          442,  170,  143,  348,  293,  663,  215,  164,  362,  460,  910,\n",
       "          922,  619,  467,  141,  129,  473,  173,  157,  288,   83,  332,\n",
       "          103,  559,  109,  255, 1046,   85,  111,  117,  160,  363,  172,\n",
       "          469,  308,  321,  271,  261,  127,  227,  179,  664,  374,  225,\n",
       "          387,  352,  291,   87,  226,  311,  142,  616,  104,  188,  222,\n",
       "          516,  183,  244,  205,  301,  124,   78, 1060,  281,  235,  147,\n",
       "          148,   92,  113,  265,  429,  266,  360,  361,  397,  138,  220,\n",
       "          410,  398,  678,  209,  110,  163,  187,  168,  358,  407,  166,\n",
       "          434, 1148,  625,  223, 1155,   65,  102,  297,  759,  153,  195,\n",
       "          384,  511,  444, 3291,  237,  155,  383,  391,  487,  300,  716,\n",
       "          211,   77,  408,  824, 1121, 1117,  177,  128,  380,  390,  185,\n",
       "          456,  366,  528,  282,  315,  250,  448,  219,  357,   95,  346,\n",
       "          279,  861,  212,  263,  729,  912,  354,  304,  413,   86,  681,\n",
       "          105, 1352,  386,  309,  458,  230,  530,  302,  504,  248,  369,\n",
       "           90,  351,  419,  228,  190, 1064, 1110,  287,  334,  478,  475,\n",
       "          181,  563,  500,  123,  238,  441,  139,   91,  214, 1404, 1386,\n",
       "         1225,  928,  151,  568,  549,  350,  249,  175,  251,   94,  234,\n",
       "          335,  328,  152,  161,  325,  426,  323,  201,  186,  376,  178,\n",
       "          523,  146,  330,  264,  499,  236,  433,  644,  417,  355,  636,\n",
       "          337,  919,  435, 1585,  320,  106,  231,  461,  430,  331,  567,\n",
       "          270,  832,  635,  468,  333,  203,  216,  709,   99,  392,  492,\n",
       "          202,  218,  690,  911,  402,  286,  539,  140,  724,  614,  960,\n",
       "          247,  272,  275,  207,  388,  436,  379,  306,  158,  526,  446,\n",
       "          673,  496,  316,  546, 2116,  208,  565,  747,  253,  531,  418,\n",
       "          229,  669,  305,  659,  806,  512,  232,  437,  307,  221,  180,\n",
       "          656,  773,  641,  503,  462,  711,  457,  396,  359,  515,  340,\n",
       "          513,  745,  706,  502,  509,  137,  404,  536,  455,  589,  556,\n",
       "          584,  428,  245,  224,  432,  284,  521,  378,  399,  748,  438,\n",
       "          206,  891,  400,  741,  389, 3026,  600,  197,  714,  382,  191,\n",
       "          535,  510, 1571,  422, 1752,  449, 2289,  721,  897,  548,  326,\n",
       "          701,  439,  756, 1772,  273,  375,  277,  795,  259,  762,  421,\n",
       "          200,  671,  364,  470,  508,  412,  726, 1001,  543,  445,  501,\n",
       "          252,  527,  655,  339,  807,  372,  498, 2597,  403,  474,  648,\n",
       "          319,  617,  463,  409,  493,  574,  631,  610,  677,  486,  371,\n",
       "          972,  769, 1370,  347,  483,  276,  427,  481,  618,  550,  452,\n",
       "          637,  606,  917,  626,  533, 1120,  517,  900,  233,  632, 1156,\n",
       "          349,  356,  640,  262,  338,  634,  278,  554,  329,  411,  658,\n",
       "         1068, 1312,  593, 1029,  896,  476,  570,  784,  579,  573,  602,\n",
       "          684,  415,  466,  529, 1295,  342, 1575,  336, 2150,  480,  477,\n",
       "          713, 1482,  353,  703,  623,  324,  491,  746,  752,  863,  643,\n",
       "          607,  541,  299,  765,  999,  682,  283,  416,  544,  734, 2034,\n",
       "          377, 1670,  700, 1041,  627,  583, 5050, 1696,  865,  689,  401,\n",
       "          440,  580,  758,  312,  482,  453,  365,  670,  608,  735,  830,\n",
       "          561,  587, 1049,  459,  727,  781,  345,  344,  295,  780,  572,\n",
       "          954,  562, 1642,  522,  646, 1075, 1070,  431,  465,  552,  542,\n",
       "         1190, 2863,  532,  989,  893,  621,  847,  799,  969, 1056,  857,\n",
       "          505,  955,  545, 1073,  497,  642, 2066, 2053,  540,  904, 1178,\n",
       "         2272,  447,  683,  772,  719,  882,  742,  424,  687,  761,  525,\n",
       "          551,  657,  609,  702,  620,  534, 1780,  736, 1169,  816,  924,\n",
       "          553,  749,  588, 1123,  507,  612,  662,  603, 1465,  909,  743,\n",
       "         1206,  695,  566,  833,  710,  906,  454,  941,  697, 2983, 1304,\n",
       "          538, 1376,  488,  870,  815, 1434, 1005, 1983,  995,  564,  868,\n",
       "          668,  425, 1027,  484, 1021,  586,  395,  524,  805, 1680, 1707,\n",
       "          592,  812, 1020,  858, 1273, 2196,  489,  740, 1195,  518,  471,\n",
       "          443, 1789,  679, 4635, 1184,  645,  585,  715,  581,  577,  599,\n",
       "          943,  770, 1008,  495,  557,  825, 1022,  859,  451,  846, 1227,\n",
       "          738,  696,  990, 1003,  801, 1085,  692, 1077, 1716,  733, 1912,\n",
       "          939,  597, 1211,  851,  420,  921,  753, 1250,  650, 1176, 6953,\n",
       "          605,  937, 1128,  755, 2520, 1458,  768, 3404,  485, 1618, 1140,\n",
       "          875, 4010,  843,  615,  808,  569,  934, 1439,  996,  558, 1413,\n",
       "         1147,  757, 1612,  987,  665,  767, 1236,  977,  985,  823, 1006,\n",
       "          638,  788, 4442, 1302,  938,  728,  604,  674,  945, 1360,  826,\n",
       "          514,  667,  624, 1095,  840,  947], dtype=int64)]]"
      ]
     },
     "execution_count": 36,
     "metadata": {},
     "output_type": "execute_result"
    }
   ],
   "source": [
    "[[df['text_len'].unique()]]"
   ]
  },
  {
   "cell_type": "code",
   "execution_count": 37,
   "metadata": {},
   "outputs": [
    {
     "data": {
      "text/plain": [
       "26      350\n",
       "21      344\n",
       "22      343\n",
       "27      325\n",
       "23      318\n",
       "       ... \n",
       "551       1\n",
       "583       1\n",
       "615       1\n",
       "679       1\n",
       "1983      1\n",
       "Name: text_len, Length: 886, dtype: int64"
      ]
     },
     "execution_count": 37,
     "metadata": {},
     "output_type": "execute_result"
    }
   ],
   "source": [
    "df['text_len'].value_counts(ascending=False)"
   ]
  },
  {
   "cell_type": "code",
   "execution_count": 38,
   "metadata": {
    "scrolled": false
   },
   "outputs": [
    {
     "name": "stderr",
     "output_type": "stream",
     "text": [
      "C:\\Users\\andre\\anaconda3\\lib\\site-packages\\seaborn\\distributions.py:2551: FutureWarning: `distplot` is a deprecated function and will be removed in a future version. Please adapt your code to use either `displot` (a figure-level function with similar flexibility) or `histplot` (an axes-level function for histograms).\n",
      "  warnings.warn(msg, FutureWarning)\n"
     ]
    },
    {
     "data": {
      "image/png": "[encoded data removed]",
      "text/plain": [
       "<Figure size 864x576 with 1 Axes>"
      ]
     },
     "metadata": {
      "needs_background": "light"
     },
     "output_type": "display_data"
    }
   ],
   "source": [
    "plt.figure(figsize=(12,8))\n",
    "plt.title('Text Length Distribution Plot')\n",
    "plt.ylabel('Frequency')\n",
    "plt.xlabel('Length of posts')\n",
    "plt.xlim((1,4))\n",
    "plt.xticks(np.arange(0, 2000, step=200))\n",
    "sns.distplot(df['text_len']);"
   ]
  },
  {
   "cell_type": "markdown",
   "metadata": {},
   "source": [
    "- Majority of posts have less than 200 words\n",
    "- This data is not normally distributed, and is right skewed"
   ]
  },
  {
   "cell_type": "code",
   "execution_count": 39,
   "metadata": {},
   "outputs": [],
   "source": [
    "cars_words = []\n",
    "for text in df[df['subreddit'] ==1]['text']:\n",
    "    cars_words.append(text.split())\n",
    "cars_words = [x for mylist in cars_words for x in mylist]\n",
    "    \n",
    "bikes_words = []\n",
    "for text in df[df['subreddit'] ==0]['text']:\n",
    "    bikes_words.append(text.split())\n",
    "bikes_words = [x for mylist in bikes_words for x in mylist]"
   ]
  },
  {
   "cell_type": "code",
   "execution_count": 40,
   "metadata": {},
   "outputs": [],
   "source": [
    "cars_words_df = pd.DataFrame({\n",
    "                'word': list(Counter(cars_words).keys()),\n",
    "                'count': list(Counter(cars_words).values())\n",
    "                })\n",
    "\n",
    "bikes_words_df = pd.DataFrame({\n",
    "                'word': list(Counter(bikes_words).keys()),\n",
    "                'count': list(Counter(bikes_words).values())\n",
    "                })"
   ]
  },
  {
   "cell_type": "code",
   "execution_count": 41,
   "metadata": {},
   "outputs": [
    {
     "data": {
      "text/html": [
       "<div>\n",
       "<style scoped>\n",
       "    .dataframe tbody tr th:only-of-type {\n",
       "        vertical-align: middle;\n",
       "    }\n",
       "\n",
       "    .dataframe tbody tr th {\n",
       "        vertical-align: top;\n",
       "    }\n",
       "\n",
       "    .dataframe thead th {\n",
       "        text-align: right;\n",
       "    }\n",
       "</style>\n",
       "<table border=\"1\" class=\"dataframe\">\n",
       "  <thead>\n",
       "    <tr style=\"text-align: right;\">\n",
       "      <th></th>\n",
       "      <th>word</th>\n",
       "      <th>count</th>\n",
       "    </tr>\n",
       "  </thead>\n",
       "  <tbody>\n",
       "    <tr>\n",
       "      <th>21</th>\n",
       "      <td>car</td>\n",
       "      <td>7140</td>\n",
       "    </tr>\n",
       "    <tr>\n",
       "      <th>124</th>\n",
       "      <td>like</td>\n",
       "      <td>1182</td>\n",
       "    </tr>\n",
       "    <tr>\n",
       "      <th>26</th>\n",
       "      <td>would</td>\n",
       "      <td>1130</td>\n",
       "    </tr>\n",
       "    <tr>\n",
       "      <th>75</th>\n",
       "      <td>new</td>\n",
       "      <td>1058</td>\n",
       "    </tr>\n",
       "    <tr>\n",
       "      <th>41</th>\n",
       "      <td>get</td>\n",
       "      <td>1028</td>\n",
       "    </tr>\n",
       "    <tr>\n",
       "      <th>93</th>\n",
       "      <td>know</td>\n",
       "      <td>934</td>\n",
       "    </tr>\n",
       "    <tr>\n",
       "      <th>614</th>\n",
       "      <td>engine</td>\n",
       "      <td>895</td>\n",
       "    </tr>\n",
       "    <tr>\n",
       "      <th>79</th>\n",
       "      <td>one</td>\n",
       "      <td>835</td>\n",
       "    </tr>\n",
       "    <tr>\n",
       "      <th>81</th>\n",
       "      <td>need</td>\n",
       "      <td>740</td>\n",
       "    </tr>\n",
       "    <tr>\n",
       "      <th>17</th>\n",
       "      <td>help</td>\n",
       "      <td>654</td>\n",
       "    </tr>\n",
       "    <tr>\n",
       "      <th>205</th>\n",
       "      <td>drive</td>\n",
       "      <td>601</td>\n",
       "    </tr>\n",
       "    <tr>\n",
       "      <th>109</th>\n",
       "      <td>year</td>\n",
       "      <td>599</td>\n",
       "    </tr>\n",
       "    <tr>\n",
       "      <th>30</th>\n",
       "      <td>want</td>\n",
       "      <td>596</td>\n",
       "    </tr>\n",
       "    <tr>\n",
       "      <th>168</th>\n",
       "      <td>first</td>\n",
       "      <td>589</td>\n",
       "    </tr>\n",
       "    <tr>\n",
       "      <th>117</th>\n",
       "      <td>anyone</td>\n",
       "      <td>588</td>\n",
       "    </tr>\n",
       "  </tbody>\n",
       "</table>\n",
       "</div>"
      ],
      "text/plain": [
       "       word  count\n",
       "21      car   7140\n",
       "124    like   1182\n",
       "26    would   1130\n",
       "75      new   1058\n",
       "41      get   1028\n",
       "93     know    934\n",
       "614  engine    895\n",
       "79      one    835\n",
       "81     need    740\n",
       "17     help    654\n",
       "205   drive    601\n",
       "109    year    599\n",
       "30     want    596\n",
       "168   first    589\n",
       "117  anyone    588"
      ]
     },
     "execution_count": 41,
     "metadata": {},
     "output_type": "execute_result"
    }
   ],
   "source": [
    "cars_words_df.sort_values(by='count', ascending=False).head(15)"
   ]
  },
  {
   "cell_type": "code",
   "execution_count": 42,
   "metadata": {},
   "outputs": [
    {
     "data": {
      "text/html": [
       "<div>\n",
       "<style scoped>\n",
       "    .dataframe tbody tr th:only-of-type {\n",
       "        vertical-align: middle;\n",
       "    }\n",
       "\n",
       "    .dataframe tbody tr th {\n",
       "        vertical-align: top;\n",
       "    }\n",
       "\n",
       "    .dataframe thead th {\n",
       "        text-align: right;\n",
       "    }\n",
       "</style>\n",
       "<table border=\"1\" class=\"dataframe\">\n",
       "  <thead>\n",
       "    <tr style=\"text-align: right;\">\n",
       "      <th></th>\n",
       "      <th>word</th>\n",
       "      <th>count</th>\n",
       "    </tr>\n",
       "  </thead>\n",
       "  <tbody>\n",
       "    <tr>\n",
       "      <th>24</th>\n",
       "      <td>bike</td>\n",
       "      <td>4075</td>\n",
       "    </tr>\n",
       "    <tr>\n",
       "      <th>2</th>\n",
       "      <td>motorcycle</td>\n",
       "      <td>1951</td>\n",
       "    </tr>\n",
       "    <tr>\n",
       "      <th>16</th>\n",
       "      <td>first</td>\n",
       "      <td>1419</td>\n",
       "    </tr>\n",
       "    <tr>\n",
       "      <th>87</th>\n",
       "      <td>ride</td>\n",
       "      <td>1366</td>\n",
       "    </tr>\n",
       "    <tr>\n",
       "      <th>251</th>\n",
       "      <td>get</td>\n",
       "      <td>1254</td>\n",
       "    </tr>\n",
       "    <tr>\n",
       "      <th>40</th>\n",
       "      <td>like</td>\n",
       "      <td>1222</td>\n",
       "    </tr>\n",
       "    <tr>\n",
       "      <th>0</th>\n",
       "      <td>new</td>\n",
       "      <td>1189</td>\n",
       "    </tr>\n",
       "    <tr>\n",
       "      <th>159</th>\n",
       "      <td>riding</td>\n",
       "      <td>1030</td>\n",
       "    </tr>\n",
       "    <tr>\n",
       "      <th>207</th>\n",
       "      <td>would</td>\n",
       "      <td>1010</td>\n",
       "    </tr>\n",
       "    <tr>\n",
       "      <th>271</th>\n",
       "      <td>one</td>\n",
       "      <td>1001</td>\n",
       "    </tr>\n",
       "    <tr>\n",
       "      <th>42</th>\n",
       "      <td>know</td>\n",
       "      <td>849</td>\n",
       "    </tr>\n",
       "    <tr>\n",
       "      <th>48</th>\n",
       "      <td>got</td>\n",
       "      <td>813</td>\n",
       "    </tr>\n",
       "    <tr>\n",
       "      <th>566</th>\n",
       "      <td>amp</td>\n",
       "      <td>765</td>\n",
       "    </tr>\n",
       "    <tr>\n",
       "      <th>47</th>\n",
       "      <td>anyone</td>\n",
       "      <td>718</td>\n",
       "    </tr>\n",
       "    <tr>\n",
       "      <th>37</th>\n",
       "      <td>looking</td>\n",
       "      <td>701</td>\n",
       "    </tr>\n",
       "  </tbody>\n",
       "</table>\n",
       "</div>"
      ],
      "text/plain": [
       "           word  count\n",
       "24         bike   4075\n",
       "2    motorcycle   1951\n",
       "16        first   1419\n",
       "87         ride   1366\n",
       "251         get   1254\n",
       "40         like   1222\n",
       "0           new   1189\n",
       "159      riding   1030\n",
       "207       would   1010\n",
       "271         one   1001\n",
       "42         know    849\n",
       "48          got    813\n",
       "566         amp    765\n",
       "47       anyone    718\n",
       "37      looking    701"
      ]
     },
     "execution_count": 42,
     "metadata": {},
     "output_type": "execute_result"
    }
   ],
   "source": [
    "bikes_words_df.sort_values(by='count', ascending=False).head(15)"
   ]
  },
  {
   "cell_type": "code",
   "execution_count": 43,
   "metadata": {
    "scrolled": true
   },
   "outputs": [],
   "source": [
    "word_cloud_car = WordCloud(collocations = False, background_color = 'white').generate(' '.join(cars_words))\n",
    "word_cloud_bike = WordCloud(collocations = False, background_color = 'white').generate(' '.join(bikes_words))"
   ]
  },
  {
   "cell_type": "code",
   "execution_count": 44,
   "metadata": {},
   "outputs": [],
   "source": [
    "def cloud_generator(cloud):\n",
    "    plt.figure(figsize=(10,8))\n",
    "    plt.imshow(cloud, interpolation='bilinear')\n",
    "    plt.axis(\"off\")\n",
    "    plt.show()"
   ]
  },
  {
   "cell_type": "code",
   "execution_count": 45,
   "metadata": {},
   "outputs": [
    {
     "data": {
      "image/png": "[encoded data removed]",
      "text/plain": [
       "<Figure size 720x576 with 1 Axes>"
      ]
     },
     "metadata": {
      "needs_background": "light"
     },
     "output_type": "display_data"
    }
   ],
   "source": [
    "cloud_generator(word_cloud_car)"
   ]
  },
  {
   "cell_type": "code",
   "execution_count": 46,
   "metadata": {},
   "outputs": [
    {
     "data": {
      "image/png": "[encoded data removed]",
      "text/plain": [
       "<Figure size 720x576 with 1 Axes>"
      ]
     },
     "metadata": {
      "needs_background": "light"
     },
     "output_type": "display_data"
    }
   ],
   "source": [
    "cloud_generator(word_cloud_bike)"
   ]
  },
  {
   "cell_type": "markdown",
   "metadata": {},
   "source": [
    "### EDA Summary"
   ]
  },
  {
   "cell_type": "markdown",
   "metadata": {},
   "source": [
    "Visually, the word coluds show that there seems to be quite a few common words like 'anyone', 'wa', 'know', 'good', etc. \n",
    "\n",
    "For the next step I will explore some models like Random Forest and Multinomial Naive Bayes to see how well each model can classify the data. "
   ]
  },
  {
   "cell_type": "markdown",
   "metadata": {},
   "source": [
    "## Modelling"
   ]
  },
  {
   "cell_type": "code",
   "execution_count": 47,
   "metadata": {},
   "outputs": [],
   "source": [
    "X = df['text']\n",
    "y = df['subreddit']"
   ]
  },
  {
   "cell_type": "code",
   "execution_count": 48,
   "metadata": {},
   "outputs": [
    {
     "data": {
      "text/plain": [
       "0    0.500432\n",
       "1    0.499568\n",
       "Name: subreddit, dtype: float64"
      ]
     },
     "execution_count": 48,
     "metadata": {},
     "output_type": "execute_result"
    }
   ],
   "source": [
    "# baseline score\n",
    "\n",
    "y.value_counts(normalize=True)\n",
    "\n",
    "# We would be correct 50.04% of the time if we said every text belonged to Cars"
   ]
  },
  {
   "cell_type": "code",
   "execution_count": 49,
   "metadata": {},
   "outputs": [],
   "source": [
    "X_train, X_test, y_train, y_test = train_test_split(X, y, test_size = 0.2, random_state=42, stratify=y)"
   ]
  },
  {
   "cell_type": "markdown",
   "metadata": {},
   "source": [
    "The easiest way for us to convert text data into a structured, numeric X dataframe is to use CountVectorizer.\n",
    "\n",
    "- Count: Count up how many times a token is observed in a given document.\n",
    "- Vectorizer: Create a column (also known as a vector) that stores those counts."
   ]
  },
  {
   "cell_type": "code",
   "execution_count": 50,
   "metadata": {},
   "outputs": [],
   "source": [
    "cvec = CountVectorizer(stop_words='english') # using CountVectorizer to tokenize\n",
    "\n",
    "cvec.fit(X_train)\n",
    "X_train_cvec = cvec.transform(X_train)\n",
    "X_test_cvec = cvec.transform(X_test)"
   ]
  },
  {
   "cell_type": "markdown",
   "metadata": {},
   "source": [
    "TF-IDF is a score that tells us which words are important to one document, relative to all other documents. Words that occur often in one document but don't occur in many documents contain more predictive power."
   ]
  },
  {
   "cell_type": "code",
   "execution_count": 51,
   "metadata": {},
   "outputs": [],
   "source": [
    "tfidf = TfidfVectorizer(stop_words='english') # using TfidfVectorizer to tokenize\n",
    "\n",
    "tfidf.fit(X_train)\n",
    "X_train_tfidf = tfidf.transform(X_train)\n",
    "X_test_tfidf = tfidf.transform(X_test)"
   ]
  },
  {
   "cell_type": "markdown",
   "metadata": {},
   "source": [
    "**Creating a function to save/load models**  \n",
    "- Some models take a long time to run. \n",
    "- Saving them as pickle files allows us to recall them later without having to rerun the model."
   ]
  },
  {
   "cell_type": "code",
   "execution_count": 52,
   "metadata": {},
   "outputs": [],
   "source": [
    "# def save_zipped_pickle(obj, filename, protocol=-1):\n",
    "#     with gzip.open(filename, 'wb') as f:\n",
    "#         cPickle.dump(obj, f, protocol)\n",
    "\n",
    "# def load_zipped_pickle(filename):\n",
    "#     with gzip.open(filename, 'rb') as f:\n",
    "#         loaded_object = cPickle.load(f)\n",
    "#         return loaded_object\n",
    "    \n",
    "# save the model to disk\n",
    "def save_fit(model, model_str):\n",
    "    '''input model to be saved as a pickle file for use later\n",
    "    model variable, variable name for saving file'''\n",
    "    \n",
    "    filename = f'../data/finalized_{model_str}_model.pkl'\n",
    "    dump(model, open(filename, 'wb'))\n",
    "    \n",
    "\n",
    "    \n",
    "# some time later...\n",
    "\n",
    "# load the model from disk\n",
    "def load_fit(model_str):\n",
    "    '''load model from previously saved file\n",
    "    f\"../data/finalized_{model_str}_model.sav\"'''\n",
    "    \n",
    "    filename = f'../data/finalized_{model_str}_model.pkl'\n",
    "    print(f'{model_str} successfully loaded')\n",
    "    model_str = load(open(filename, 'rb'))\n",
    "    return model_str"
   ]
  },
  {
   "cell_type": "markdown",
   "metadata": {},
   "source": [
    "**Bayes' theorem**  \n",
    "If we know $P(B|A)$, Bayes' theorem allows us to calculate the probability of $P(A|B)$ by relating the probability of $P(A|B)$ to $P(B|A)$. \n",
    "\n",
    "$$\n",
    "\\begin{eqnarray*}\n",
    "\\text{Bayes' Theorem: } P(A|B) &=& \\frac{P(B|A)P(A)}{P(B)}\n",
    "\\end{eqnarray*}\n",
    "$$\n",
    "\n",
    "- Let $A$ be that a post from cars.\n",
    "- Let $B$ represent the words used in the post.\n",
    "\n",
    "$$\n",
    "\\begin{eqnarray*}\n",
    "\\text{Bayes' Theorem: } P(A|B) &=& \\frac{P(B|A)P(A)}{P(B)} \\\\\n",
    "\\Rightarrow P(\\text{message is from cars}|\\text{words in message}) &=& \\frac{P(\\text{words in message}|\\text{message is from cars})P(\\text{message is from cars})}{P(\\text{words in message})}\n",
    "\\end{eqnarray*}\n",
    "$$\n",
    "\n",
    "We want to calculate the probability that a post is from cars **given** the words that are in the message! Our model can learn this from the training data.\n",
    "\n",
    "**Naïve Bayes** makes the assumption that all features are independent of one another (this is why it is called *naïve*).\n",
    "\n",
    "**Multinomial Naive Bayes Model**  \n",
    "The Multinomial Naive Bayes' model is built upon the Bayes' theorem. It is popular for NLP as it works well for vectorized raw text data in string format. Bayes theorem is a probability formula that leverages on previously known probabilities to define the probability of related events occuring. When converting Bayes' theorem to a machine learning model for classification, we are essentially modelling the probability of belonging to a class, given a vector of features.\n",
    "\n",
    "One major assumption for the Naive Bayes' model is that all features are mutually independent of each other. In the NLP context, this means that words (i.e. the features) in a text document are not related to each other. However, we intuitively know that this is not true since words in a document are dependent on one another; words are not chosen at random. That being said, the assumption that all words/features are mutually independent perorms reasonably well and the model produces decent classification results. Hence, using the Naive Bayes model along with this implicit assumption is still acceptable.\n",
    "\n",
    "For this project, we will train the Multionomial Naive Bayes model on both the Count Vectorized matrix and the TF-IDF matrix and compare performance."
   ]
  },
  {
   "cell_type": "code",
   "execution_count": 53,
   "metadata": {},
   "outputs": [],
   "source": [
    "# instantiate the model\n",
    "cvec_nb = MultinomialNB()\n",
    "tfidf_nb = MultinomialNB()"
   ]
  },
  {
   "cell_type": "code",
   "execution_count": 54,
   "metadata": {
    "scrolled": true
   },
   "outputs": [
    {
     "data": {
      "text/plain": [
       "MultinomialNB()"
      ]
     },
     "execution_count": 54,
     "metadata": {},
     "output_type": "execute_result"
    }
   ],
   "source": [
    "cvec_nb.fit(X_train_cvec, y_train)\n",
    "tfidf_nb.fit(X_train_tfidf, y_train)"
   ]
  },
  {
   "cell_type": "code",
   "execution_count": 93,
   "metadata": {},
   "outputs": [],
   "source": [
    "def model_score(model, text):\n",
    "    '''This function calculates the model score\n",
    "    model = model name, text = 'model name'\n",
    "    '''\n",
    "    # Evaluate model.\n",
    "\n",
    "    train_score = model.score(X_train_cvec,y_train)\n",
    "    test_score = model.score(X_test_cvec,y_test)\n",
    "    \n",
    "    print(f'Score on {text} training set: {train_score}')\n",
    "    print(f'Score on {text} testing set: {test_score}')"
   ]
  },
  {
   "cell_type": "code",
   "execution_count": 94,
   "metadata": {},
   "outputs": [
    {
     "name": "stdout",
     "output_type": "stream",
     "text": [
      "Score on cvec_nb training set: 0.9452028700234936\n",
      "Score on cvec_nb testing set: 0.9090909090909091\n"
     ]
    }
   ],
   "source": [
    "# Evaluate cvec_nb model.\n",
    "model_score(cvec_nb,'cvec_nb')"
   ]
  },
  {
   "cell_type": "code",
   "execution_count": 95,
   "metadata": {},
   "outputs": [
    {
     "name": "stdout",
     "output_type": "stream",
     "text": [
      "Score on tfidf_nb training set: 0.9528224014223126\n",
      "Score on tfidf_nb testing set: 0.919756221432199\n"
     ]
    }
   ],
   "source": [
    "# Evaluate tfidf_nb model.\n",
    "model_score(tfidf_nb,'tfidf_nb')"
   ]
  },
  {
   "cell_type": "code",
   "execution_count": 55,
   "metadata": {},
   "outputs": [],
   "source": [
    "# define a dictionary with keys: [model, train, test] for use in a custom fuction\n",
    "cvec_set = {'model': cvec_nb, 'train': X_train_cvec, 'test': X_test_cvec}\n",
    "tfidf_set =  {'model': tfidf_nb, 'train': X_train_tfidf, 'test': X_test_tfidf}"
   ]
  },
  {
   "cell_type": "code",
   "execution_count": 56,
   "metadata": {},
   "outputs": [],
   "source": [
    "def result(dataset,vectorizer):\n",
    "    '''\n",
    "    dataset = {'model': _____, 'train': _____, 'test': _____}\n",
    "    vectorizer = cvec | tfidf\n",
    "    '''\n",
    "    print(vectorizer)\n",
    "    print(f\"{dataset['model']} train score: {dataset['model'].score(dataset['train'],y_train):.4f}\")\n",
    "    print(f\"{dataset['model']} test score: {dataset['model'].score(dataset['test'],y_test):.4f}\")\n",
    "    print('\\n')\n",
    "    pred = dataset['model'].predict(dataset['test'])\n",
    "    print(classification_report(y_test,pred))\n",
    "    plot_confusion_matrix(dataset['model'],dataset['test'],y_test)\n",
    "    \n",
    "    tn, fp, fn, tp = confusion_matrix(y_test, pred).ravel()\n",
    "    # Confusion Matrix formulas\n",
    "    accuracy = (tp+tn)/(tn+fp+fn+tp)\n",
    "    misclassification = 1 - accuracy\n",
    "    specificity = tn/(tn+fp) # aka True -ve rate\n",
    "    sensitivity = tp/(tp+fn) # aka recall aka True +ve rate\n",
    "    precision = tp/(tp+fp) # aka +ve predicted value\n",
    "\n",
    "    # Type I error = fp\n",
    "    # Type II error = fn   this is more damaging!\n",
    "\n",
    "    print(f'''accuracy: {accuracy:.4f}\n",
    "misclassification: {misclassification:.4f}\n",
    "specificity: {specificity:.4f}\n",
    "sensitivity: {sensitivity:.4f}\n",
    "precision: {precision:.4f}\n",
    "''')"
   ]
  },
  {
   "cell_type": "code",
   "execution_count": 57,
   "metadata": {
    "scrolled": false
   },
   "outputs": [
    {
     "name": "stdout",
     "output_type": "stream",
     "text": [
      "CountVectorizer(stop_words='english')\n",
      "MultinomialNB() train score: 0.9452\n",
      "MultinomialNB() test score: 0.9091\n",
      "\n",
      "\n",
      "              precision    recall  f1-score   support\n",
      "\n",
      "           0       0.91      0.91      0.91      1971\n",
      "           1       0.91      0.91      0.91      1967\n",
      "\n",
      "    accuracy                           0.91      3938\n",
      "   macro avg       0.91      0.91      0.91      3938\n",
      "weighted avg       0.91      0.91      0.91      3938\n",
      "\n",
      "accuracy: 0.9091\n",
      "misclassification: 0.0909\n",
      "specificity: 0.9097\n",
      "sensitivity: 0.9085\n",
      "precision: 0.9094\n",
      "\n"
     ]
    },
    {
     "data": {
      "image/png": "[encoded data removed]",
      "text/plain": [
       "<Figure size 432x288 with 2 Axes>"
      ]
     },
     "metadata": {
      "needs_background": "light"
     },
     "output_type": "display_data"
    }
   ],
   "source": [
    "result(cvec_set, cvec)"
   ]
  },
  {
   "cell_type": "code",
   "execution_count": 58,
   "metadata": {},
   "outputs": [
    {
     "name": "stdout",
     "output_type": "stream",
     "text": [
      "TfidfVectorizer(stop_words='english')\n",
      "MultinomialNB() train score: 0.9552\n",
      "MultinomialNB() test score: 0.9144\n",
      "\n",
      "\n",
      "              precision    recall  f1-score   support\n",
      "\n",
      "           0       0.92      0.91      0.91      1971\n",
      "           1       0.91      0.92      0.91      1967\n",
      "\n",
      "    accuracy                           0.91      3938\n",
      "   macro avg       0.91      0.91      0.91      3938\n",
      "weighted avg       0.91      0.91      0.91      3938\n",
      "\n",
      "accuracy: 0.9144\n",
      "misclassification: 0.0856\n",
      "specificity: 0.9132\n",
      "sensitivity: 0.9156\n",
      "precision: 0.9133\n",
      "\n"
     ]
    },
    {
     "data": {
      "image/png": "[encoded data removed]",
      "text/plain": [
       "<Figure size 432x288 with 2 Axes>"
      ]
     },
     "metadata": {
      "needs_background": "light"
     },
     "output_type": "display_data"
    }
   ],
   "source": [
    "result(tfidf_set, tfidf)"
   ]
  },
  {
   "cell_type": "markdown",
   "metadata": {},
   "source": [
    "**Random Forest Model**  \n",
    "Random forest is a supervised learning algorithm. The \"forest\" it builds, is an ensemble of decision trees, usually trained with the “bagging” method. The general idea of the bagging method is that a combination of learning models increases the overall result.\n",
    "\n",
    "By using the random forest model, we are able to circumvent the main limitations of a single decision tree, which include the following:  \n",
    "- splitting criteria can lead to unused data  \n",
    "- potential for overfitting  \n",
    "\n",
    "With bagged decision trees, we generate many different trees on pretty similar data. These trees are strongly correlated with one another. Because these trees are correlated with one another, they will have high variance. Looking at the variance of the average of two random variables $T_1$ and $T_2$:\n",
    "\n",
    "$$\n",
    "\\begin{eqnarray*}\n",
    "Var\\left(\\frac{T_1+T_2}{2}\\right) &=& \\frac{1}{4}\\left[Var(T_1) + Var(T_2) + 2Cov(T_1,T_2)\\right]\n",
    "\\end{eqnarray*}\n",
    "$$\n",
    "\n",
    "If $T_1$ and $T_2$ are highly correlated, then the variance will about as high as we'd see with individual decision trees. By \"de-correlating\" our trees from one another, we can drastically reduce the variance of our model.\n",
    "By randomly selecting feature subsets at each potential splot, we prevent overfitting. It also enables us to explore many aspects of the feature space. For the case of this project, the feature space is the count vectorized matrix and the TF-IDF matrix. Each word in the thousands of words is has the potential to provide a useful signal and random forests ensures that we do not overlook this feature through the random feature selection and the creation of multiple trees.\n",
    "\n",
    "The dataset in this project has a large number of rows (posts) and features (words) available. The random forest model also offers the option of boostrapping, where we can decide on a split at a node using a bootstrap selection of rows together with the random subset of features chosen. This enables the creation of even more diverse trees with less correlation to one another since there are now 2 randomized components at each split in the decision tree."
   ]
  },
  {
   "cell_type": "code",
   "execution_count": 59,
   "metadata": {},
   "outputs": [],
   "source": [
    "param_grid = {\n",
    "    'n_estimators':[10,50,100],\n",
    "    'max_features':[\"sqrt\", \"log2\"],\n",
    "    'bootstrap':[True,False],\n",
    "    'random_state':[42],\n",
    "}"
   ]
  },
  {
   "cell_type": "code",
   "execution_count": 60,
   "metadata": {},
   "outputs": [],
   "source": [
    "cvec_rf = RandomForestClassifier()\n",
    "tfidf_rf = RandomForestClassifier()"
   ]
  },
  {
   "cell_type": "code",
   "execution_count": 61,
   "metadata": {},
   "outputs": [],
   "source": [
    "cvec_rf_gs = GridSearchCV(cvec_rf, param_grid=param_grid, cv=5)\n",
    "tfidf_rf_gs = GridSearchCV(tfidf_rf, param_grid=param_grid, cv=5)"
   ]
  },
  {
   "cell_type": "code",
   "execution_count": 62,
   "metadata": {
    "scrolled": true
   },
   "outputs": [
    {
     "name": "stdout",
     "output_type": "stream",
     "text": [
      "Wall time: 0 ns\n"
     ]
    }
   ],
   "source": [
    "%%time\n",
    " # WARNING!! LONG RUN TIME EXPECTED!!\n",
    "# cvec_rf_gs.fit(X_train_cvec,y_train) # comment out to save time\n",
    "\n",
    "# ==== BELOW ARE THE RESULTS ====\n",
    "# Wall time: 23min 17s\n",
    "# GridSearchCV(cv=5, estimator=RandomForestClassifier(),\n",
    "#              param_grid={'bootstrap': [True, False],\n",
    "#                          'max_features': ['sqrt', 'log2'],\n",
    "#                          'n_estimators': [10, 50, 100], 'random_state': [42]})"
   ]
  },
  {
   "cell_type": "code",
   "execution_count": 63,
   "metadata": {},
   "outputs": [
    {
     "name": "stdout",
     "output_type": "stream",
     "text": [
      "cvec_rf_gs successfully loaded\n"
     ]
    }
   ],
   "source": [
    "# save_fit(cvec_rf_gs,'cvec_rf_gs')\n",
    "# cvec_rf_gs_backup = cvec_rf_gs # also creating a backup, just in case.\n",
    "cvec_rf_gs = load_fit('cvec_rf_gs')"
   ]
  },
  {
   "cell_type": "code",
   "execution_count": 64,
   "metadata": {
    "scrolled": false
   },
   "outputs": [
    {
     "data": {
      "text/plain": [
       "{'bootstrap': True,\n",
       " 'max_features': 'log2',\n",
       " 'n_estimators': 100,\n",
       " 'random_state': 42}"
      ]
     },
     "execution_count": 64,
     "metadata": {},
     "output_type": "execute_result"
    }
   ],
   "source": [
    "cvec_rf_gs.best_params_"
   ]
  },
  {
   "cell_type": "code",
   "execution_count": 65,
   "metadata": {
    "scrolled": true
   },
   "outputs": [
    {
     "name": "stdout",
     "output_type": "stream",
     "text": [
      "Wall time: 0 ns\n"
     ]
    }
   ],
   "source": [
    "%%time \n",
    "# WARNING!! LONG RUN TIME EXPECTED!!\n",
    "# tfidf_rf_gs.fit(X_train_tfidf,y_train) # comment out to save time\n",
    "\n",
    "# ==== BELOW ARE THE RESULTS ====\n",
    "# Wall time: 21min 41s\n",
    "# GridSearchCV(cv=5, estimator=RandomForestClassifier(),\n",
    "#              param_grid={'bootstrap': [True, False],\n",
    "#                          'max_features': ['sqrt', 'log2'],\n",
    "#                          'n_estimators': [10, 50, 100], 'random_state': [42]})"
   ]
  },
  {
   "cell_type": "code",
   "execution_count": 66,
   "metadata": {},
   "outputs": [
    {
     "name": "stdout",
     "output_type": "stream",
     "text": [
      "tfidf_rf_gs successfully loaded\n"
     ]
    }
   ],
   "source": [
    "# save_fit(tfidf_rf_gs,'tfidf_rf_gs')\n",
    "# tfidf_rf_gs_backup = tfidf_rf_gs # also creating a backup, just in case.\n",
    "tfidf_rf_gs = load_fit('tfidf_rf_gs')"
   ]
  },
  {
   "cell_type": "code",
   "execution_count": 67,
   "metadata": {
    "scrolled": true
   },
   "outputs": [
    {
     "data": {
      "text/plain": [
       "{'bootstrap': False,\n",
       " 'max_features': 'log2',\n",
       " 'n_estimators': 100,\n",
       " 'random_state': 42}"
      ]
     },
     "execution_count": 67,
     "metadata": {},
     "output_type": "execute_result"
    }
   ],
   "source": [
    "tfidf_rf_gs.best_params_"
   ]
  },
  {
   "cell_type": "code",
   "execution_count": 68,
   "metadata": {},
   "outputs": [],
   "source": [
    "cvec_rf = RandomForestClassifier(bootstrap=True,\n",
    "                                 max_features='log2',\n",
    "                                 n_estimators=100,\n",
    "                                 random_state=42)\n",
    "\n",
    "tfidf_rf = RandomForestClassifier(bootstrap=False,\n",
    "                                 max_features= 'log2',\n",
    "                                 n_estimators= 100,\n",
    "                                 random_state= 42)"
   ]
  },
  {
   "cell_type": "code",
   "execution_count": 69,
   "metadata": {},
   "outputs": [
    {
     "data": {
      "text/plain": [
       "RandomForestClassifier(bootstrap=False, max_features='log2', random_state=42)"
      ]
     },
     "execution_count": 69,
     "metadata": {},
     "output_type": "execute_result"
    }
   ],
   "source": [
    "cvec_rf.fit(X_train_cvec,y_train)\n",
    "tfidf_rf.fit(X_train_cvec,y_train)"
   ]
  },
  {
   "cell_type": "code",
   "execution_count": 96,
   "metadata": {},
   "outputs": [
    {
     "name": "stdout",
     "output_type": "stream",
     "text": [
      "Score on cvec_rf training set: 0.9975236522953839\n",
      "Score on cvec_rf testing set: 0.9103605891315388\n"
     ]
    }
   ],
   "source": [
    "# Evaluate cvec_rf model.\n",
    "model_score(cvec_rf,'cvec_rf')"
   ]
  },
  {
   "cell_type": "code",
   "execution_count": 97,
   "metadata": {},
   "outputs": [
    {
     "name": "stdout",
     "output_type": "stream",
     "text": [
      "Score on tfidf_rf training set: 0.9975236522953839\n",
      "Score on tfidf_rf testing set: 0.9126460132046724\n"
     ]
    }
   ],
   "source": [
    "# Evaluate tfidf_rf model.\n",
    "model_score(tfidf_rf,'tfidf_rf')"
   ]
  },
  {
   "cell_type": "code",
   "execution_count": 70,
   "metadata": {},
   "outputs": [],
   "source": [
    "# define a dictionary with keys: [model, train, test] for use in a custom fuction\n",
    "cvec_set_rf = {'model': cvec_rf, 'train': X_train_cvec, 'test': X_test_cvec}\n",
    "tfidf_set_rf =  {'model': tfidf_rf, 'train': X_train_tfidf, 'test': X_test_tfidf}"
   ]
  },
  {
   "cell_type": "code",
   "execution_count": 71,
   "metadata": {
    "scrolled": false
   },
   "outputs": [
    {
     "name": "stdout",
     "output_type": "stream",
     "text": [
      "CountVectorizer(stop_words='english')\n",
      "RandomForestClassifier(max_features='log2', random_state=42) train score: 0.9975\n",
      "RandomForestClassifier(max_features='log2', random_state=42) test score: 0.9104\n",
      "\n",
      "\n",
      "              precision    recall  f1-score   support\n",
      "\n",
      "           0       0.89      0.93      0.91      1971\n",
      "           1       0.93      0.89      0.91      1967\n",
      "\n",
      "    accuracy                           0.91      3938\n",
      "   macro avg       0.91      0.91      0.91      3938\n",
      "weighted avg       0.91      0.91      0.91      3938\n",
      "\n",
      "accuracy: 0.9104\n",
      "misclassification: 0.0896\n",
      "specificity: 0.9335\n",
      "sensitivity: 0.8871\n",
      "precision: 0.9302\n",
      "\n"
     ]
    },
    {
     "data": {
      "image/png": "[encoded data removed]",
      "text/plain": [
       "<Figure size 432x288 with 2 Axes>"
      ]
     },
     "metadata": {
      "needs_background": "light"
     },
     "output_type": "display_data"
    }
   ],
   "source": [
    "result(cvec_set_rf,cvec)"
   ]
  },
  {
   "cell_type": "code",
   "execution_count": 72,
   "metadata": {},
   "outputs": [
    {
     "name": "stdout",
     "output_type": "stream",
     "text": [
      "TfidfVectorizer(stop_words='english')\n",
      "RandomForestClassifier(bootstrap=False, max_features='log2', random_state=42) train score: 0.6606\n",
      "RandomForestClassifier(bootstrap=False, max_features='log2', random_state=42) test score: 0.6199\n",
      "\n",
      "\n",
      "              precision    recall  f1-score   support\n",
      "\n",
      "           0       0.57      0.95      0.71      1971\n",
      "           1       0.85      0.29      0.43      1967\n",
      "\n",
      "    accuracy                           0.62      3938\n",
      "   macro avg       0.71      0.62      0.57      3938\n",
      "weighted avg       0.71      0.62      0.57      3938\n",
      "\n",
      "accuracy: 0.6199\n",
      "misclassification: 0.3801\n",
      "specificity: 0.9467\n",
      "sensitivity: 0.2923\n",
      "precision: 0.8456\n",
      "\n"
     ]
    },
    {
     "data": {
      "image/png": "[encoded data removed]",
      "text/plain": [
       "<Figure size 432x288 with 2 Axes>"
      ]
     },
     "metadata": {
      "needs_background": "light"
     },
     "output_type": "display_data"
    }
   ],
   "source": [
    "result(tfidf_set_rf,tfidf)"
   ]
  },
  {
   "cell_type": "markdown",
   "metadata": {},
   "source": [
    "### Modelling Summary"
   ]
  },
  {
   "cell_type": "markdown",
   "metadata": {},
   "source": [
    "|                                           | **RESULTS** |        |          |         |\n",
    "|-------------------------------------------|-------------|--------|----------|---------|\n",
    "| Tokenizer \\| Model                        | precision   | recall | accuracy | support |\n",
    "| CountVectorizer \\| MultinomialNB          | 0.91        | 0.91   | 0.91     | 3938    |\n",
    "| TF-IDF \\| MultinomialNB                   | 0.91        | 0.91   | 0.91     | 3938    |\n",
    "| CountVectorizer \\| RandomForestClassifier | 0.91        | 0.91   | 0.91     | 3938    |\n",
    "| TF-IDF \\| RandomForestClassifier          | 0.71        | 0.62   | 0.62     | 3938    |"
   ]
  },
  {
   "cell_type": "markdown",
   "metadata": {},
   "source": [
    "In general, the 3 of the 4 models yielded accuracy of 0.91. The `TF-IDF vectorizer | Random Forests` had the worst accuracy of 0.62. This is likely due to the large overlap of words between the two classes, of which `TF-IDF` reduces the importance of words that appear frequently.  \n",
    "\n",
    "It seems like there is no clear best model to choose from. However, using our understanding of the problem and the nature of the models, this project is inclined to use either `CountVectorizer | MultinomialNB` or `CountVectorizer | RandomForestClassifier` as the selected model. `CountVectorizer` may be the better vectorizer for this problem in particular. Since the objective is to classify a post into a subreddit based on the post content, we actually want to assign more importance to the words that appear frequently in all the posts, such as \"cars\" and \"motorcycle\". This is exactly what count vectorizer does, as compared to `TF-IDF` vectorizer which reduces the importance of words that appear frequently.  \n",
    "\n",
    "One of the biggest advantages of random forest is its versatility. It can be used for both regression and classification tasks, and it’s also easy to view the relative importance it assigns to the input features. Random forest is also a very handy algorithm because the default hyperparameters it uses often produce a good prediction result. Understanding the hyperparameters is pretty straightforward, and there's also not that many of them. One of the biggest problems in machine learning is overfitting, but most of the time this won’t happen thanks to the random forest classifier. If there are enough trees in the forest, the classifier won’t overfit the model.\n",
    "\n",
    "Hence, we recommend the `CountVectorizer | MultinomialNB` or `CountVectorizer | RandomForestClassifier` models for use with this problem satement."
   ]
  },
  {
   "cell_type": "markdown",
   "metadata": {},
   "source": [
    "## Conclusion & Recommendations"
   ]
  },
  {
   "cell_type": "markdown",
   "metadata": {},
   "source": [
    "Since the selected tokenizer and model is able to achieve an accuracy of 91%, it significantly outdo the baseline score of 50.04%. The customer will be able to classify the posts from subreddits r/cars and r/motorcycle with a much lesser error of about 9%. \n",
    "\n",
    "With a better than baseline classification model, they will be able to better position their editorials."
   ]
  }
 ],
 "metadata": {
  "kernelspec": {
   "display_name": "Python 3",
   "language": "python",
   "name": "python3"
  },
  "language_info": {
   "codemirror_mode": {
    "name": "ipython",
    "version": 3
   },
   "file_extension": ".py",
   "mimetype": "text/x-python",
   "name": "python",
   "nbconvert_exporter": "python",
   "pygments_lexer": "ipython3",
   "version": "3.8.5"
  },
  "toc": {
   "base_numbering": 1,
   "nav_menu": {},
   "number_sections": true,
   "sideBar": false,
   "skip_h1_title": false,
   "title_cell": "Table of Contents",
   "title_sidebar": "Contents",
   "toc_cell": false,
   "toc_position": {
    "height": "789px",
    "left": "39px",
    "top": "111.125px",
    "width": "285px"
   },
   "toc_section_display": true,
   "toc_window_display": true
  }
 },
 "nbformat": 4,
 "nbformat_minor": 4
}
